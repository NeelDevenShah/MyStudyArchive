{
  "cells": [
    {
      "attachments": {},
      "cell_type": "markdown",
      "id": "e41ac6bc",
      "metadata": {
        "id": "e41ac6bc"
      },
      "source": [
        "## CTU-13 Botnet Detection\n",
        "\n",
        "</BR>AN EXAMPLE, FOR HOW CAN WE REVIEW AN DATASET"
      ]
    },
    {
      "cell_type": "markdown",
      "id": "5ea0a67c",
      "metadata": {
        "id": "5ea0a67c"
      },
      "source": [
        "The CTU-13 dataset is a collection of network traffic captured in a university environment, containing both normal and botnet traffic. This dataset is often used for research in botnet detection"
      ]
    },
    {
      "cell_type": "code",
      "execution_count": null,
      "id": "c6aeeef3",
      "metadata": {
        "id": "c6aeeef3"
      },
      "outputs": [],
      "source": [
        "# importing libraries\n",
        "import numpy as np\n",
        "import pandas as pd"
      ]
    },
    {
      "cell_type": "code",
      "execution_count": null,
      "id": "5f2a847e",
      "metadata": {
        "id": "5f2a847e"
      },
      "outputs": [],
      "source": [
        "# path of sample data\n",
        "path = 'C:\\\\Home\\\\CLDC\\\\CTU-13/'"
      ]
    },
    {
      "cell_type": "code",
      "execution_count": null,
      "id": "99dc5188",
      "metadata": {
        "id": "99dc5188"
      },
      "outputs": [],
      "source": [
        "# sample dataframe\n",
        "df = pd.read_parquet(path+'1-Neris-20110810.binetflow.parquet')"
      ]
    },
    {
      "cell_type": "code",
      "execution_count": null,
      "id": "364bc36d",
      "metadata": {
        "id": "364bc36d",
        "outputId": "606fc735-9403-4ded-ec9f-e1806a509bf0"
      },
      "outputs": [
        {
          "data": {
            "text/html": [
              "<div>\n",
              "<style scoped>\n",
              "    .dataframe tbody tr th:only-of-type {\n",
              "        vertical-align: middle;\n",
              "    }\n",
              "\n",
              "    .dataframe tbody tr th {\n",
              "        vertical-align: top;\n",
              "    }\n",
              "\n",
              "    .dataframe thead th {\n",
              "        text-align: right;\n",
              "    }\n",
              "</style>\n",
              "<table border=\"1\" class=\"dataframe\">\n",
              "  <thead>\n",
              "    <tr style=\"text-align: right;\">\n",
              "      <th></th>\n",
              "      <th>dur</th>\n",
              "      <th>proto</th>\n",
              "      <th>dir</th>\n",
              "      <th>state</th>\n",
              "      <th>stos</th>\n",
              "      <th>dtos</th>\n",
              "      <th>tot_pkts</th>\n",
              "      <th>tot_bytes</th>\n",
              "      <th>src_bytes</th>\n",
              "      <th>label</th>\n",
              "      <th>Family</th>\n",
              "    </tr>\n",
              "  </thead>\n",
              "  <tbody>\n",
              "    <tr>\n",
              "      <th>0</th>\n",
              "      <td>1.026539</td>\n",
              "      <td>tcp</td>\n",
              "      <td>-&gt;</td>\n",
              "      <td>S_RA</td>\n",
              "      <td>0.0</td>\n",
              "      <td>0.0</td>\n",
              "      <td>4</td>\n",
              "      <td>276</td>\n",
              "      <td>156</td>\n",
              "      <td>flow=Background-Established-cmpgw-CVUT</td>\n",
              "      <td>20110810.binetflow.csv</td>\n",
              "    </tr>\n",
              "    <tr>\n",
              "      <th>1</th>\n",
              "      <td>1.009595</td>\n",
              "      <td>tcp</td>\n",
              "      <td>-&gt;</td>\n",
              "      <td>S_RA</td>\n",
              "      <td>0.0</td>\n",
              "      <td>0.0</td>\n",
              "      <td>4</td>\n",
              "      <td>276</td>\n",
              "      <td>156</td>\n",
              "      <td>flow=Background-Established-cmpgw-CVUT</td>\n",
              "      <td>20110810.binetflow.csv</td>\n",
              "    </tr>\n",
              "    <tr>\n",
              "      <th>2</th>\n",
              "      <td>3.056586</td>\n",
              "      <td>tcp</td>\n",
              "      <td>-&gt;</td>\n",
              "      <td>SR_A</td>\n",
              "      <td>0.0</td>\n",
              "      <td>0.0</td>\n",
              "      <td>3</td>\n",
              "      <td>182</td>\n",
              "      <td>122</td>\n",
              "      <td>flow=Background-TCP-Attempt</td>\n",
              "      <td>20110810.binetflow.csv</td>\n",
              "    </tr>\n",
              "    <tr>\n",
              "      <th>3</th>\n",
              "      <td>3.111769</td>\n",
              "      <td>tcp</td>\n",
              "      <td>-&gt;</td>\n",
              "      <td>SR_A</td>\n",
              "      <td>0.0</td>\n",
              "      <td>0.0</td>\n",
              "      <td>3</td>\n",
              "      <td>182</td>\n",
              "      <td>122</td>\n",
              "      <td>flow=Background-TCP-Attempt</td>\n",
              "      <td>20110810.binetflow.csv</td>\n",
              "    </tr>\n",
              "    <tr>\n",
              "      <th>4</th>\n",
              "      <td>3.083411</td>\n",
              "      <td>tcp</td>\n",
              "      <td>-&gt;</td>\n",
              "      <td>SR_A</td>\n",
              "      <td>0.0</td>\n",
              "      <td>0.0</td>\n",
              "      <td>3</td>\n",
              "      <td>182</td>\n",
              "      <td>122</td>\n",
              "      <td>flow=Background-TCP-Attempt</td>\n",
              "      <td>20110810.binetflow.csv</td>\n",
              "    </tr>\n",
              "  </tbody>\n",
              "</table>\n",
              "</div>"
            ],
            "text/plain": [
              "        dur proto    dir state  stos  dtos  tot_pkts  tot_bytes  src_bytes  \\\n",
              "0  1.026539   tcp     ->  S_RA   0.0   0.0         4        276        156   \n",
              "1  1.009595   tcp     ->  S_RA   0.0   0.0         4        276        156   \n",
              "2  3.056586   tcp     ->  SR_A   0.0   0.0         3        182        122   \n",
              "3  3.111769   tcp     ->  SR_A   0.0   0.0         3        182        122   \n",
              "4  3.083411   tcp     ->  SR_A   0.0   0.0         3        182        122   \n",
              "\n",
              "                                    label                  Family  \n",
              "0  flow=Background-Established-cmpgw-CVUT  20110810.binetflow.csv  \n",
              "1  flow=Background-Established-cmpgw-CVUT  20110810.binetflow.csv  \n",
              "2             flow=Background-TCP-Attempt  20110810.binetflow.csv  \n",
              "3             flow=Background-TCP-Attempt  20110810.binetflow.csv  \n",
              "4             flow=Background-TCP-Attempt  20110810.binetflow.csv  "
            ]
          },
          "execution_count": 4,
          "metadata": {},
          "output_type": "execute_result"
        }
      ],
      "source": [
        "df.head()"
      ]
    },
    {
      "cell_type": "code",
      "execution_count": null,
      "id": "e509bed3",
      "metadata": {
        "id": "e509bed3",
        "outputId": "9fa94404-e055-4486-ef06-452ef0f40998"
      },
      "outputs": [
        {
          "name": "stdout",
          "output_type": "stream",
          "text": [
            "<class 'pandas.core.frame.DataFrame'>\n",
            "RangeIndex: 1621173 entries, 0 to 1621172\n",
            "Data columns (total 11 columns):\n",
            " #   Column     Non-Null Count    Dtype   \n",
            "---  ------     --------------    -----   \n",
            " 0   dur        1621173 non-null  float32 \n",
            " 1   proto      1621173 non-null  category\n",
            " 2   dir        1621173 non-null  category\n",
            " 3   state      1621172 non-null  category\n",
            " 4   stos       1616028 non-null  float32 \n",
            " 5   dtos       1529939 non-null  float32 \n",
            " 6   tot_pkts   1621173 non-null  int32   \n",
            " 7   tot_bytes  1621173 non-null  int64   \n",
            " 8   src_bytes  1621173 non-null  int64   \n",
            " 9   label      1621173 non-null  category\n",
            " 10  Family     1621173 non-null  category\n",
            "dtypes: category(5), float32(3), int32(1), int64(2)\n",
            "memory usage: 58.8 MB\n"
          ]
        }
      ],
      "source": [
        "# details of columns\n",
        "df.info()"
      ]
    },
    {
      "cell_type": "code",
      "execution_count": null,
      "id": "1a6f1e36",
      "metadata": {
        "id": "1a6f1e36",
        "outputId": "9483f633-4f02-4612-eccf-9e0632e70441",
        "scrolled": false
      },
      "outputs": [
        {
          "data": {
            "text/plain": [
              "Index(['dur', 'proto', 'dir', 'state', 'stos', 'dtos', 'tot_pkts', 'tot_bytes',\n",
              "       'src_bytes', 'label', 'Family'],\n",
              "      dtype='object')"
            ]
          },
          "execution_count": 6,
          "metadata": {},
          "output_type": "execute_result"
        }
      ],
      "source": [
        "# list of all columns\n",
        "df.columns"
      ]
    },
    {
      "cell_type": "markdown",
      "id": "f55260ec",
      "metadata": {
        "id": "f55260ec"
      },
      "source": [
        "we have total 5 categorical columns (family col here just represents datafile name), thier categories are as follows "
      ]
    },
    {
      "cell_type": "code",
      "execution_count": null,
      "id": "60a24e2b",
      "metadata": {
        "id": "60a24e2b",
        "outputId": "5cdbaf53-1ef2-4496-83ee-60630aded5d5"
      },
      "outputs": [
        {
          "data": {
            "text/plain": [
              "udp          1153511\n",
              "tcp           448832\n",
              "icmp           13411\n",
              "rtp             2570\n",
              "rtcp            2304\n",
              "arp              443\n",
              "ipv6-icmp         50\n",
              "esp               10\n",
              "ipv6              10\n",
              "udt               10\n",
              "ipx/spx            8\n",
              "pim                7\n",
              "rarp               4\n",
              "igmp               2\n",
              "unas               1\n",
              "Name: proto, dtype: int64"
            ]
          },
          "execution_count": 7,
          "metadata": {},
          "output_type": "execute_result"
        }
      ],
      "source": [
        "# all categories of protocol\n",
        "df['proto'].value_counts()"
      ]
    },
    {
      "cell_type": "code",
      "execution_count": null,
      "id": "1109b6df",
      "metadata": {
        "id": "1109b6df",
        "outputId": "f1cf3028-4c34-49ba-e436-f7520a52f181",
        "scrolled": true
      },
      "outputs": [
        {
          "data": {
            "text/plain": [
              "  <->    1109168\n",
              "   ->     502286\n",
              "  <?>       6139\n",
              "  <-        1702\n",
              "   ?>       1426\n",
              "  who        447\n",
              "  <?           5\n",
              "Name: dir, dtype: int64"
            ]
          },
          "execution_count": 8,
          "metadata": {},
          "output_type": "execute_result"
        }
      ],
      "source": [
        "# all categories of directory\n",
        "df['dir'].value_counts()"
      ]
    },
    {
      "cell_type": "code",
      "execution_count": null,
      "id": "05954618",
      "metadata": {
        "id": "05954618",
        "outputId": "de247cfa-c670-474d-d687-d011988d796f",
        "scrolled": true
      },
      "outputs": [
        {
          "data": {
            "text/plain": [
              "CON            1108492\n",
              "FSPA_FSPA       215447\n",
              "S_RA             52222\n",
              "INT              49410\n",
              "SRPA_FSPA        35374\n",
              "                ...   \n",
              "FSRPAE_FSPA          1\n",
              "SPA_FSA              1\n",
              "FSAU_SA              1\n",
              "FSPA_FA              1\n",
              "SPA_SRPAC            1\n",
              "Name: state, Length: 230, dtype: int64"
            ]
          },
          "execution_count": 9,
          "metadata": {},
          "output_type": "execute_result"
        }
      ],
      "source": [
        "# all categories of state\n",
        "df['state'].value_counts()"
      ]
    },
    {
      "cell_type": "code",
      "execution_count": null,
      "id": "32ef0db0",
      "metadata": {
        "id": "32ef0db0",
        "outputId": "33fbe2ef-7a50-4ac9-c69a-96a13a72289f"
      },
      "outputs": [
        {
          "data": {
            "text/plain": [
              "flow=Background-UDP-Established                                            815604\n",
              "flow=To-Background-UDP-CVUT-DNS-Server                                     220506\n",
              "flow=Background-TCP-Established                                            218569\n",
              "flow=Background-Established-cmpgw-CVUT                                     136333\n",
              "flow=Background-TCP-Attempt                                                 60097\n",
              "                                                                            ...  \n",
              "flow=From-Botnet-V42-TCP-HTTP-Not-Encrypted-Down-2                              1\n",
              "flow=From-Botnet-V42-TCP-Established-HTTP-Ad-60                                 1\n",
              "flow=From-Botnet-V42-TCP-Established-HTTP-Binary-Download-Custom-Port-5         1\n",
              "flow=From-Botnet-V42-ICMP                                                       1\n",
              "flow=From-Botnet-V42-TCP-Established-HTTP-Adobe-4                               1\n",
              "Name: label, Length: 113, dtype: int64"
            ]
          },
          "execution_count": 10,
          "metadata": {},
          "output_type": "execute_result"
        }
      ],
      "source": [
        "# all categories of label\n",
        "df['label'].value_counts()"
      ]
    },
    {
      "cell_type": "markdown",
      "id": "561ea618",
      "metadata": {
        "id": "561ea618"
      },
      "source": [
        "### Features"
      ]
    },
    {
      "cell_type": "markdown",
      "id": "13630e61",
      "metadata": {
        "id": "13630e61"
      },
      "source": [
        "First we need to understand the features of the dataset\n"
      ]
    },
    {
      "cell_type": "markdown",
      "id": "bf386f1f",
      "metadata": {
        "id": "bf386f1f"
      },
      "source": [
        "The features in the CTU-13 dataset:\n",
        "\n",
        "1. 'dur': This feature represents the duration of the flow, in seconds. A flow is a sequence of packets that share common properties such as source and destination IP addresses, source and destination ports, and protocol.\n",
        "\n",
        "\n",
        "2. 'proto': This feature represents the transport layer protocol used by the flow, such as TCP, UDP, ICMP, etc.\n",
        "\n",
        "\n",
        "3. 'dir': This feature represents the direction of the flow.\n",
        "\n",
        "\n",
        "4. 'state': This feature represents the state of the flow.\n",
        "\n",
        "\n",
        "5. 'stos': This feature represents the source IP address's type of service (ToS) value, which indicates the priority of the packet.\n",
        "\n",
        "\n",
        "6. 'dtos': This feature represents the destination IP address's ToS value.\n",
        "\n",
        "\n",
        "7. 'tot_pkts': This feature represents the total number of packets in the flow.\n",
        "\n",
        "\n",
        "8. 'tot_bytes': This feature represents the total number of bytes in the flow.\n",
        "\n",
        "\n",
        "9. 'src_bytes': This feature represents the number of bytes sent from the source IP address.\n",
        "\n",
        "\n",
        "10. 'label': This feature represents the label or class of the flow, indicating whether it is normal traffic or botnet traffic.\n",
        "\n",
        "\n",
        "11. 'Family': This feature represents the family of the botnet associated with the flow.\n",
        "\n",
        "\n",
        "These features are used as input to machine learning algorithms for botnet detection. By analyzing these features, machine learning algorithms can learn to distinguish between normal traffic and botnet traffic and identify the characteristics of different botnet families."
      ]
    },
    {
      "cell_type": "markdown",
      "id": "de14ab7f",
      "metadata": {
        "id": "de14ab7f"
      },
      "source": [
        "### Approach"
      ]
    },
    {
      "cell_type": "markdown",
      "id": "c7f35953",
      "metadata": {
        "id": "c7f35953"
      },
      "source": [
        "Several machine learning algorithms can be used for botnet detection in the CTU-13 dataset. The choice of algorithm will depend on the specific characteristics of the dataset, the available computational resources, and the performance metrics of interest. Some of the machine learning algorithms for botnet detection include:\n",
        "\n",
        "\n",
        "1. Decision Trees: Decision trees are simple and easy to interpret. They can be used for both classification and regression problems, and they can handle categorical and numerical data.\n",
        "\n",
        "\n",
        "2. Random Forests: Random forests are an ensemble learning method that combines multiple decision trees. They are effective for handling high-dimensional data and can handle missing values.\n",
        "\n",
        "\n",
        "3. Support Vector Machines (SVM): SVM is a powerful algorithm for classification problems. It is effective for handling non-linear data and can handle high-dimensional data.\n",
        "\n",
        "\n",
        "4. Naive Bayes: Naive Bayes is a simple and fast algorithm that is effective for handling high-dimensional data. It is based on Bayes' theorem and assumes that the features are independent.\n",
        "\n",
        "\n",
        "5. Artificial Neural Networks (ANN): ANNs are a powerful algorithm for handling complex data. They are effective for handling non-linear data and can handle high-dimensional data.\n",
        "\n",
        "\n",
        "6. K-Nearest Neighbors (KNN): KNN is a simple and effective algorithm for classification problems. It works by finding the k nearest neighbors to a new data point and using their labels to classify the new point.\n",
        "\n",
        "\n",
        "7. Gradient Boosting Machines (GBM): GBM is an ensemble learning method that combines multiple weak models to form a strong model. It is effective for handling complex data and can handle missing values.\n",
        "\n",
        "\n",
        "It is important to note that the choice of algorithm should be based on the specific requirements of the problem and the characteristics of the dataset. It is also important to properly evaluate the performance of the chosen algorithm using appropriate performance metrics such as accuracy, precision, recall, and F1-score."
      ]
    }
  ],
  "metadata": {
    "colab": {
      "provenance": []
    },
    "kernelspec": {
      "display_name": "Python 3 (ipykernel)",
      "language": "python",
      "name": "python3"
    },
    "language_info": {
      "codemirror_mode": {
        "name": "ipython",
        "version": 3
      },
      "file_extension": ".py",
      "mimetype": "text/x-python",
      "name": "python",
      "nbconvert_exporter": "python",
      "pygments_lexer": "ipython3",
      "version": "3.9.12"
    }
  },
  "nbformat": 4,
  "nbformat_minor": 5
}
