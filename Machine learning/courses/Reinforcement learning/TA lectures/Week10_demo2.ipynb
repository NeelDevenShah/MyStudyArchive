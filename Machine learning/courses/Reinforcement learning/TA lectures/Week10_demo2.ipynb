{
  "cells": [
    {
      "cell_type": "markdown",
      "source": [
        "# Imports"
      ],
      "metadata": {
        "id": "IZtgGs5EEQhH"
      }
    },
    {
      "cell_type": "code",
      "execution_count": 14,
      "metadata": {
        "id": "8sGnK1umo7pR"
      },
      "outputs": [],
      "source": [
        "import gym\n",
        "import numpy as np\n",
        "from itertools import count\n",
        "from collections import namedtuple\n",
        "from matplotlib import pyplot as plt\n",
        "import torch\n",
        "import torch.nn as nn\n",
        "import torch.nn.functional as F\n",
        "import torch.optim as optim\n",
        "from torch.distributions import Categorical\n",
        "import warnings\n",
        "warnings.filterwarnings('ignore')"
      ]
    },
    {
      "cell_type": "code",
      "execution_count": 15,
      "metadata": {
        "id": "C0lI5nAoo7pT"
      },
      "outputs": [],
      "source": [
        "SavedAction = namedtuple('SavedAction', ['log_prob', 'value'])"
      ]
    },
    {
      "cell_type": "markdown",
      "source": [
        "# Environment"
      ],
      "metadata": {
        "id": "_HtYYGx8ETfN"
      }
    },
    {
      "cell_type": "code",
      "execution_count": 16,
      "metadata": {
        "id": "j0-SdXbMo7pU"
      },
      "outputs": [],
      "source": [
        "env = gym.make('CartPole-v0')"
      ]
    },
    {
      "cell_type": "code",
      "execution_count": 17,
      "metadata": {
        "colab": {
          "base_uri": "https://localhost:8080/"
        },
        "id": "9r-xyQ-Fo7pU",
        "outputId": "58fe5eb7-a42a-499e-d97e-34eaa13ee8fe"
      },
      "outputs": [
        {
          "output_type": "execute_result",
          "data": {
            "text/plain": [
              "Box([-4.8000002e+00 -3.4028235e+38 -4.1887903e-01 -3.4028235e+38], [4.8000002e+00 3.4028235e+38 4.1887903e-01 3.4028235e+38], (4,), float32)"
            ]
          },
          "metadata": {},
          "execution_count": 17
        }
      ],
      "source": [
        "env.observation_space"
      ]
    },
    {
      "cell_type": "markdown",
      "source": [
        "# Policy and Value Natworks"
      ],
      "metadata": {
        "id": "VAWU3kDpEY_-"
      }
    },
    {
      "cell_type": "code",
      "execution_count": 18,
      "metadata": {
        "id": "Zn0nxmClo7pV"
      },
      "outputs": [],
      "source": [
        "class Policy(nn.Module):\n",
        "    def __init__(self):\n",
        "        super(Policy, self).__init__()\n",
        "        self.affine1 = nn.Linear(4, 128)\n",
        "        self.action_head = nn.Linear(128, 2)\n",
        "        self.value_head = nn.Linear(128, 1)\n",
        "        self.saved_actions = []\n",
        "        self.rewards = []\n",
        "    def forward(self, x):\n",
        "        x = F.relu(self.affine1(x))\n",
        "        action_prob = F.softmax(self.action_head(x), dim=-1) # Policy\n",
        "        state_values = self.value_head(x) # Value\n",
        "        return action_prob, state_values"
      ]
    },
    {
      "cell_type": "markdown",
      "source": [
        "Function to select action stochastically"
      ],
      "metadata": {
        "id": "JmUNKYMaJwxX"
      }
    },
    {
      "cell_type": "code",
      "execution_count": 19,
      "metadata": {
        "id": "qQZV_b0uo7pV"
      },
      "outputs": [],
      "source": [
        "def select_action(state):\n",
        "    state = torch.from_numpy(state).float()\n",
        "    probs, state_value = model(state)\n",
        "    m = Categorical(probs)\n",
        "    action = m.sample() # Stochastic policy\n",
        "    model.saved_actions.append(SavedAction(m.log_prob(action), state_value))\n",
        "    return action.item()"
      ]
    },
    {
      "cell_type": "markdown",
      "source": [
        "Function to calculte actor and critic loss and perform backpropagation"
      ],
      "metadata": {
        "id": "sOg7347oIq0y"
      }
    },
    {
      "cell_type": "code",
      "execution_count": 20,
      "metadata": {
        "id": "9fSHedU2o7pW"
      },
      "outputs": [],
      "source": [
        "def finish_episode():\n",
        "    R = 0\n",
        "    saved_actions = model.saved_actions\n",
        "    policy_losses = [] # list for storing policy (actor) losses\n",
        "    value_losses = [] # list for storing value (critic) losses\n",
        "    returns = [] # list for storing returns\n",
        "\n",
        "    for r in model.rewards[::-1]:\n",
        "        R = r + 0.99 * R\n",
        "        returns.insert(0, R)\n",
        "\n",
        "    returns = torch.tensor(returns)\n",
        "    returns = (returns - returns.mean()) / (returns.std() + eps) # Standard normalization\n",
        "\n",
        "    for (log_prob, value), R in zip(saved_actions, returns):\n",
        "        advantage = R - value.item() # baseline subtraction\n",
        "\n",
        "        policy_losses.append(-log_prob * advantage)\n",
        "\n",
        "        value_losses.append(F.smooth_l1_loss(value, torch.tensor([R])))\n",
        "\n",
        "    optimizer.zero_grad()\n",
        "\n",
        "    loss = torch.stack(policy_losses).sum() + torch.stack(value_losses).sum()\n",
        "\n",
        "    loss.backward()\n",
        "    optimizer.step()\n",
        "\n",
        "    del model.rewards[:]\n",
        "    del model.saved_actions[:]"
      ]
    },
    {
      "cell_type": "code",
      "execution_count": 21,
      "metadata": {
        "id": "9D13Ug_2o7pW"
      },
      "outputs": [],
      "source": [
        "model = Policy()\n",
        "optimizer = optim.Adam(model.parameters(), lr=3e-2)\n",
        "eps = np.finfo(np.float32).eps.item() # Small value to avoid division by zero in standard normalization"
      ]
    },
    {
      "cell_type": "markdown",
      "source": [
        "# Training"
      ],
      "metadata": {
        "id": "e6jh6MWSKJQR"
      }
    },
    {
      "cell_type": "code",
      "execution_count": 22,
      "metadata": {
        "id": "7RTaI29Go7pW"
      },
      "outputs": [],
      "source": [
        "def train():\n",
        "    running_reward = 10\n",
        "    for i_episode in range(500):\n",
        "        state = env.reset()\n",
        "        ep_reward = 0\n",
        "        for t in range(1, 10000):\n",
        "            action = select_action(state)\n",
        "            state, reward, done, _ = env.step(action)\n",
        "            model.rewards.append(reward)\n",
        "            ep_reward += reward\n",
        "            if done:\n",
        "                break\n",
        "        running_reward = 0.05 * ep_reward + (1 - 0.05) * running_reward\n",
        "        finish_episode()\n",
        "        if i_episode % 10 == 0:\n",
        "            print('Episode {}\\tLast reward: {:.2f}\\tAverage reward: {:.2f}'.format(\n",
        "                  i_episode, ep_reward, running_reward))\n",
        "        if running_reward > env.spec.reward_threshold:\n",
        "            print(\"Solved! Running reward is now {} and \"\n",
        "                  \"the last episode runs to {} time steps!\".format(running_reward, t))\n",
        "            break"
      ]
    },
    {
      "cell_type": "code",
      "execution_count": 23,
      "metadata": {
        "colab": {
          "base_uri": "https://localhost:8080/"
        },
        "id": "PeK7JCIQo7pX",
        "outputId": "e055c623-1972-4553-f149-c7416a203647"
      },
      "outputs": [
        {
          "output_type": "stream",
          "name": "stdout",
          "text": [
            "Episode 0\tLast reward: 48.00\tAverage reward: 11.90\n",
            "Episode 10\tLast reward: 36.00\tAverage reward: 22.74\n",
            "Episode 20\tLast reward: 32.00\tAverage reward: 27.75\n",
            "Episode 30\tLast reward: 77.00\tAverage reward: 35.50\n",
            "Episode 40\tLast reward: 62.00\tAverage reward: 52.46\n",
            "Episode 50\tLast reward: 41.00\tAverage reward: 62.07\n",
            "Episode 60\tLast reward: 116.00\tAverage reward: 68.04\n",
            "Episode 70\tLast reward: 200.00\tAverage reward: 97.17\n",
            "Episode 80\tLast reward: 125.00\tAverage reward: 116.85\n",
            "Episode 90\tLast reward: 91.00\tAverage reward: 124.77\n",
            "Episode 100\tLast reward: 76.00\tAverage reward: 110.37\n",
            "Episode 110\tLast reward: 200.00\tAverage reward: 101.75\n",
            "Episode 120\tLast reward: 170.00\tAverage reward: 126.19\n",
            "Episode 130\tLast reward: 115.00\tAverage reward: 138.02\n",
            "Episode 140\tLast reward: 145.00\tAverage reward: 154.97\n",
            "Episode 150\tLast reward: 200.00\tAverage reward: 159.11\n",
            "Episode 160\tLast reward: 200.00\tAverage reward: 171.68\n",
            "Episode 170\tLast reward: 182.00\tAverage reward: 162.96\n",
            "Episode 180\tLast reward: 200.00\tAverage reward: 150.74\n",
            "Episode 190\tLast reward: 115.00\tAverage reward: 140.40\n",
            "Episode 200\tLast reward: 129.00\tAverage reward: 131.45\n",
            "Episode 210\tLast reward: 178.00\tAverage reward: 137.96\n",
            "Episode 220\tLast reward: 200.00\tAverage reward: 157.49\n",
            "Episode 230\tLast reward: 200.00\tAverage reward: 174.54\n",
            "Episode 240\tLast reward: 200.00\tAverage reward: 184.76\n",
            "Episode 250\tLast reward: 200.00\tAverage reward: 190.87\n",
            "Episode 260\tLast reward: 200.00\tAverage reward: 194.54\n",
            "Solved! Running reward is now 195.06902776514352 and the last episode runs to 200 time steps!\n",
            "CPU times: user 46.5 s, sys: 504 ms, total: 47 s\n",
            "Wall time: 46.3 s\n"
          ]
        }
      ],
      "source": [
        "%%time\n",
        "train()"
      ]
    },
    {
      "cell_type": "markdown",
      "source": [
        "# Evaluation"
      ],
      "metadata": {
        "id": "KiZpnDM1LJNi"
      }
    },
    {
      "cell_type": "code",
      "execution_count": 24,
      "metadata": {
        "id": "JpzsZle7o7pY"
      },
      "outputs": [],
      "source": [
        "scores = []\n",
        "for game in range(100):\n",
        "  done = False\n",
        "  cnt = 0\n",
        "  observation = env.reset()\n",
        "  while not done:\n",
        "    cnt += 1\n",
        "    action = select_action(observation)\n",
        "    observation, reward, done, _ = env.step(action)\n",
        "    if done:\n",
        "        break\n",
        "  scores.append(cnt)"
      ]
    },
    {
      "cell_type": "code",
      "source": [
        "score = np.array(scores)"
      ],
      "metadata": {
        "id": "Xd0SOFfqMiuI"
      },
      "execution_count": 25,
      "outputs": []
    },
    {
      "cell_type": "code",
      "source": [
        "plt.scatter(np.arange(score.shape[0]),score)"
      ],
      "metadata": {
        "colab": {
          "base_uri": "https://localhost:8080/",
          "height": 448
        },
        "id": "vo8-MkBUMm-c",
        "outputId": "aa1aa7d6-a544-45c6-e5bf-e7f27f7fd429"
      },
      "execution_count": 26,
      "outputs": [
        {
          "output_type": "execute_result",
          "data": {
            "text/plain": [
              "<matplotlib.collections.PathCollection at 0x7bad268013c0>"
            ]
          },
          "metadata": {},
          "execution_count": 26
        },
        {
          "output_type": "display_data",
          "data": {
            "text/plain": [
              "<Figure size 640x480 with 1 Axes>"
            ],
            "image/png": "[encoded data removed]"
          },
          "metadata": {}
        }
      ]
    },
    {
      "cell_type": "code",
      "source": [],
      "metadata": {
        "id": "ZhB81QlcMwBP"
      },
      "execution_count": 26,
      "outputs": []
    },
    {
      "cell_type": "markdown",
      "source": [
        "# Further experiments\n",
        "\n",
        "1. Hyperparameter tuning\n",
        "2. Different environments\n",
        "3. Explore other algorithms:\n",
        "\n",
        "\n",
        "*   A2C\n",
        "*   A3C\n",
        "*   SAC\n",
        "*   TRPO\n",
        "*   PPO\n",
        "*   DPG\n",
        "*   DDPG\n",
        "*   D4PG\n",
        "*   MADDPG\n",
        "*   TD3\n",
        "\n"
      ],
      "metadata": {
        "id": "3Wsja1-zHafV"
      }
    },
    {
      "cell_type": "code",
      "source": [],
      "metadata": {
        "id": "ifUeCI63JMif"
      },
      "execution_count": null,
      "outputs": []
    }
  ],
  "metadata": {
    "kernelspec": {
      "display_name": "Python 3",
      "language": "python",
      "name": "python3"
    },
    "language_info": {
      "codemirror_mode": {
        "name": "ipython",
        "version": 3
      },
      "file_extension": ".py",
      "mimetype": "text/x-python",
      "name": "python",
      "nbconvert_exporter": "python",
      "pygments_lexer": "ipython3",
      "version": "3.9.1"
    },
    "colab": {
      "provenance": []
    }
  },
  "nbformat": 4,
  "nbformat_minor": 0
}