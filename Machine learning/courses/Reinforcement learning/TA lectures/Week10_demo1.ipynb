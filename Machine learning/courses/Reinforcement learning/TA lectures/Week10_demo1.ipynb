{
  "cells": [
    {
      "cell_type": "markdown",
      "metadata": {
        "id": "ud9N-g4Bqe19"
      },
      "source": [
        "Code adapted from Deep Reinforcement Learning in Action"
      ]
    },
    {
      "cell_type": "markdown",
      "source": [
        "# Imports"
      ],
      "metadata": {
        "id": "zSb7iJDV7Zsb"
      }
    },
    {
      "cell_type": "code",
      "execution_count": 1,
      "metadata": {
        "id": "kFVZD7-Gqe1-"
      },
      "outputs": [],
      "source": [
        "import numpy as np\n",
        "import torch\n",
        "import gym\n",
        "from matplotlib import pyplot as plt\n",
        "import warnings\n",
        "warnings.filterwarnings('ignore')"
      ]
    },
    {
      "cell_type": "markdown",
      "source": [
        "Utility function to calculate running mean"
      ],
      "metadata": {
        "id": "FoWcnZFJ9BNs"
      }
    },
    {
      "cell_type": "code",
      "execution_count": 2,
      "metadata": {
        "id": "5t4rlhyoqe2A"
      },
      "outputs": [],
      "source": [
        "def running_mean(x, N=50):\n",
        "    kernel = np.ones(N)\n",
        "    conv_len = x.shape[0]-N\n",
        "    y = np.zeros(conv_len)\n",
        "    for i in range(conv_len):\n",
        "        y[i] = kernel @ x[i:i+N]\n",
        "        y[i] /= N\n",
        "    return y"
      ]
    },
    {
      "cell_type": "markdown",
      "source": [
        "# Environment"
      ],
      "metadata": {
        "id": "h6MP90an7fp-"
      }
    },
    {
      "cell_type": "code",
      "execution_count": 3,
      "metadata": {
        "id": "PeTj2znOqe2A"
      },
      "outputs": [],
      "source": [
        "env = gym.make(\"CartPole-v0\")"
      ]
    },
    {
      "cell_type": "markdown",
      "source": [
        "# Policy Network"
      ],
      "metadata": {
        "id": "GXjNqW-m7qcG"
      }
    },
    {
      "cell_type": "code",
      "execution_count": 4,
      "metadata": {
        "id": "lmqY2y16qe2B"
      },
      "outputs": [],
      "source": [
        "l1 = 4 # Number of input nodes\n",
        "l2 = 150 # Number of hidden layer nodes\n",
        "l3 = 2 # Number of output layer nodes\n",
        "\n",
        "model = torch.nn.Sequential(\n",
        "    torch.nn.Linear(l1, l2),\n",
        "    torch.nn.LeakyReLU(),\n",
        "    torch.nn.Linear(l2, l3),\n",
        "    torch.nn.Softmax(dim=0) # Output is softmax probability distribution over actions\n",
        ")\n",
        "\n",
        "learning_rate = 0.009\n",
        "optimizer = torch.optim.Adam(model.parameters(), lr=learning_rate)"
      ]
    },
    {
      "cell_type": "code",
      "execution_count": 5,
      "metadata": {
        "id": "3BjKhC9Fqe2B"
      },
      "outputs": [],
      "source": [
        "state1 = env.reset() # Returns start state\n",
        "pred = model(torch.from_numpy(state1).float()) # Call policy network model to produce predicted action probabilities\n",
        "action = np.random.choice(np.array([0,1]), p=pred.data.numpy()) # Sample an action from the probability distribution produced by the policy network\n",
        "state2, reward, done, info = env.step(action) # Take the action, receive new state and reward. The info variable is irrelevant here"
      ]
    },
    {
      "cell_type": "markdown",
      "source": [
        "Utility function to discount and normalize rewards"
      ],
      "metadata": {
        "id": "Vy7UmSm99I14"
      }
    },
    {
      "cell_type": "code",
      "execution_count": 6,
      "metadata": {
        "id": "2xChAc2Iqe2C"
      },
      "outputs": [],
      "source": [
        "def discount_rewards(rewards, gamma=0.99):\n",
        "    lenr = len(rewards)\n",
        "    disc_return = torch.pow(gamma,torch.arange(lenr).float()) * rewards # Compute exponentially decaying rewards\n",
        "    disc_return /= disc_return.max() # Normalize the rewards to be within the [0,1] interval to improve numerical stability\n",
        "    return disc_return"
      ]
    },
    {
      "cell_type": "markdown",
      "source": [
        "Loss function"
      ],
      "metadata": {
        "id": "BNJoAgg29PGJ"
      }
    },
    {
      "cell_type": "code",
      "execution_count": 7,
      "metadata": {
        "id": "7oRD_Tz0qe2D"
      },
      "outputs": [],
      "source": [
        "def loss_fn(preds, r): # Expects an array of action probabilities for the actions that were taken and the discounted rewards.\n",
        "    return -1 * torch.sum(r * torch.log(preds)) # Computes log of the probabilities, multiplies by the discounted rewards, sums them all and flips the sign."
      ]
    },
    {
      "cell_type": "markdown",
      "metadata": {
        "id": "VU5-ppcCqe2D"
      },
      "source": [
        "Hyperparameters and initialization"
      ]
    },
    {
      "cell_type": "code",
      "source": [
        "MAX_DUR = 200\n",
        "MAX_EPISODES = 500\n",
        "gamma = 0.99\n",
        "score = [] # List to keep track of the episode length over training time"
      ],
      "metadata": {
        "id": "GTEOe1-i9_eZ"
      },
      "execution_count": 8,
      "outputs": []
    },
    {
      "cell_type": "markdown",
      "source": [
        "# Training"
      ],
      "metadata": {
        "id": "w1qXv9Uu-QB1"
      }
    },
    {
      "cell_type": "code",
      "execution_count": 9,
      "metadata": {
        "id": "KxGfFWJhqe2E"
      },
      "outputs": [],
      "source": [
        "for episode in range(MAX_EPISODES):\n",
        "    curr_state = env.reset()\n",
        "    done = False\n",
        "    transitions = [] # List for storing transitions: state, action, rewards\n",
        "\n",
        "    for t in range(MAX_DUR): # While in episode\n",
        "        act_prob = model(torch.from_numpy(curr_state).float()) # Get the action probabilities\n",
        "        action = np.random.choice(np.array([0,1]), p=act_prob.data.numpy()) # Select an action stochastically\n",
        "        prev_state = curr_state\n",
        "        curr_state, _, done, info = env.step(action) # Take the action in the environment\n",
        "        transitions.append((prev_state, action, t+1)) # Store this transition\n",
        "        if done: # Truncated or terminated\n",
        "            break\n",
        "\n",
        "    ep_len = len(transitions)\n",
        "    score.append(ep_len) # Score is equal to episode length\n",
        "    reward_batch = torch.Tensor([r for (s,a,r) in transitions]).flip(dims=(0,)) # Collect all the rewards in the episode in a single tensor\n",
        "    disc_returns = discount_rewards(reward_batch) # Compute the discounted version of the rewards\n",
        "    state_batch = torch.Tensor([s for (s,a,r) in transitions]) # Collect the states in the episode in a single tensor\n",
        "    action_batch = torch.Tensor([a for (s,a,r) in transitions]) # Collect the actions in the episode in a single tensor\n",
        "    pred_batch = model(state_batch) # Recompute the action probabilities for all the states in the episode\n",
        "    prob_batch = pred_batch.gather(dim=1,index=action_batch.long().view(-1,1)).squeeze() # Subset the action-probabilities associated with the actions that were actually taken\n",
        "    loss = loss_fn(prob_batch, disc_returns)\n",
        "    optimizer.zero_grad() # Clear any resident gradients\n",
        "    loss.backward() # Calculate gradients\n",
        "    optimizer.step() # Make updates"
      ]
    },
    {
      "cell_type": "code",
      "execution_count": 10,
      "metadata": {
        "id": "-hpFDJ94qe2E"
      },
      "outputs": [],
      "source": [
        "score = np.array(score)\n",
        "avg_score = running_mean(score, 50)"
      ]
    },
    {
      "cell_type": "code",
      "execution_count": 11,
      "metadata": {
        "colab": {
          "base_uri": "https://localhost:8080/",
          "height": 467
        },
        "id": "xrGwLrk7qe2E",
        "outputId": "5815ed84-bd1a-4845-8158-ff70ec5372bb"
      },
      "outputs": [
        {
          "output_type": "execute_result",
          "data": {
            "text/plain": [
              "[<matplotlib.lines.Line2D at 0x7d7d144dfa60>]"
            ]
          },
          "metadata": {},
          "execution_count": 11
        },
        {
          "output_type": "display_data",
          "data": {
            "text/plain": [
              "<Figure size 640x480 with 1 Axes>"
            ],
            "image/png": "[encoded data removed]"
          },
          "metadata": {}
        }
      ],
      "source": [
        "plt.figure()\n",
        "plt.ylabel(\"Episode Duration\")\n",
        "plt.xlabel(\"Training Episodes\")\n",
        "plt.plot(avg_score)"
      ]
    },
    {
      "cell_type": "markdown",
      "source": [
        "# Evaluation"
      ],
      "metadata": {
        "id": "adplCa15CZaC"
      }
    },
    {
      "cell_type": "code",
      "execution_count": 12,
      "metadata": {
        "id": "9ZpHh8eSqe2E"
      },
      "outputs": [],
      "source": [
        "score = []\n",
        "games = 100\n",
        "done = False\n",
        "state1 = env.reset()\n",
        "for i in range(games):\n",
        "    t=0\n",
        "    while not done: #F\n",
        "        pred = model(torch.from_numpy(state1).float())\n",
        "        action = np.random.choice(np.array([0,1]), p=pred.data.numpy())\n",
        "        state2, reward, done, info = env.step(action)\n",
        "        state1 = state2\n",
        "        t += 1\n",
        "        if t > MAX_DUR:\n",
        "            break;\n",
        "    state1 = env.reset()\n",
        "    done = False\n",
        "    score.append(t)"
      ]
    },
    {
      "cell_type": "code",
      "source": [
        "score = np.array(score)"
      ],
      "metadata": {
        "id": "2iEwgOahCdNk"
      },
      "execution_count": 13,
      "outputs": []
    },
    {
      "cell_type": "code",
      "execution_count": 14,
      "metadata": {
        "colab": {
          "base_uri": "https://localhost:8080/",
          "height": 448
        },
        "id": "m32-auGEqe2F",
        "outputId": "6be952bf-36ed-4b4e-9e4d-9a76c4afa841"
      },
      "outputs": [
        {
          "output_type": "execute_result",
          "data": {
            "text/plain": [
              "<matplotlib.collections.PathCollection at 0x7d7d11e36170>"
            ]
          },
          "metadata": {},
          "execution_count": 14
        },
        {
          "output_type": "display_data",
          "data": {
            "text/plain": [
              "<Figure size 640x480 with 1 Axes>"
            ],
            "image/png": "[encoded data removed]"
          },
          "metadata": {}
        }
      ],
      "source": [
        "plt.scatter(np.arange(score.shape[0]),score)"
      ]
    },
    {
      "cell_type": "markdown",
      "source": [
        "# Further experiments\n",
        "\n",
        "1. Different hyperparameters\n",
        "\n",
        "\n",
        "*   NN architecture\n",
        "*   Learning rate α\n",
        "*   Number of episodes\n",
        "*   Max length of episodes\n",
        "*   Discount factor γ\n",
        "\n",
        "\n",
        "2. Different environments"
      ],
      "metadata": {
        "id": "gOGXB-v0Bvwl"
      }
    }
  ],
  "metadata": {
    "kernelspec": {
      "display_name": "Python [conda env:deeprl]",
      "language": "python",
      "name": "conda-env-deeprl-py"
    },
    "language_info": {
      "codemirror_mode": {
        "name": "ipython",
        "version": 3
      },
      "file_extension": ".py",
      "mimetype": "text/x-python",
      "name": "python",
      "nbconvert_exporter": "python",
      "pygments_lexer": "ipython3",
      "version": "3.6.7"
    },
    "colab": {
      "provenance": []
    }
  },
  "nbformat": 4,
  "nbformat_minor": 0
}