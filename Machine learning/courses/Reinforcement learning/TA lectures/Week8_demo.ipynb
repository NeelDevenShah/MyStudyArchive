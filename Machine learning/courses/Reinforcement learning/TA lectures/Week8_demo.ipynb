{
  "cells": [
    {
      "cell_type": "markdown",
      "id": "c09ada11-d3a6-4837-b4d0-9657106a54b5",
      "metadata": {
        "id": "c09ada11-d3a6-4837-b4d0-9657106a54b5"
      },
      "source": [
        "# RLSS2023 - DQN Tutorial: Fitted Q Iteration (FQI)\n",
        "\n",
        "Website: https://rlsummerschool.com/\n",
        "\n",
        "Github repository: https://github.com/araffin/rlss23-dqn-tutorial\n",
        "\n",
        "Gymnasium documentation: https://gymnasium.farama.org/\n",
        "\n",
        "## Introduction\n",
        "\n",
        "In this notebook, you will implement the Fitted Q Iteration( (FQI) algorithm to solve the [CartPole](https://gymnasium.farama.org/environments/classic_control/cart_pole/) problem.\n",
        "\n",
        "This notebooks will first cover the basics for using the Gymnasium library: how to instantiate an environment, step into it and collect training data from the FQI algorithm.\n",
        "\n",
        "You will then learn how to implement step-by-step the FQI algorithm which is the predecessor of the [Deep Q-Network (DQN)](https://stable-baselines3.readthedocs.io/en/master/modules/dqn.html) algorithm."
      ]
    },
    {
      "cell_type": "code",
      "source": [
        "!pip install jupyter_black"
      ],
      "metadata": {
        "colab": {
          "base_uri": "https://localhost:8080/"
        },
        "id": "DQQAqJ05-sEE",
        "outputId": "3c5905f4-2b0e-477e-973e-c175c170c99d"
      },
      "id": "DQQAqJ05-sEE",
      "execution_count": null,
      "outputs": [
        {
          "output_type": "stream",
          "name": "stdout",
          "text": [
            "Collecting jupyter_black\n",
            "  Downloading jupyter_black-0.3.4-py3-none-any.whl (8.5 kB)\n",
            "Collecting black>=21 (from jupyter_black)\n",
            "  Downloading black-24.3.0-cp310-cp310-manylinux_2_17_x86_64.manylinux2014_x86_64.whl (1.7 MB)\n",
            "\u001b[2K     \u001b[90m━━━━━━━━━━━━━━━━━━━━━━━━━━━━━━━━━━━━━━━━\u001b[0m \u001b[32m1.7/1.7 MB\u001b[0m \u001b[31m8.3 MB/s\u001b[0m eta \u001b[36m0:00:00\u001b[0m\n",
            "\u001b[?25hRequirement already satisfied: ipython>=7 in /usr/local/lib/python3.10/dist-packages (from jupyter_black) (7.34.0)\n",
            "Collecting tokenize-rt>=4 (from jupyter_black)\n",
            "  Downloading tokenize_rt-5.2.0-py2.py3-none-any.whl (5.8 kB)\n",
            "Requirement already satisfied: click>=8.0.0 in /usr/local/lib/python3.10/dist-packages (from black>=21->jupyter_black) (8.1.7)\n",
            "Collecting mypy-extensions>=0.4.3 (from black>=21->jupyter_black)\n",
            "  Downloading mypy_extensions-1.0.0-py3-none-any.whl (4.7 kB)\n",
            "Requirement already satisfied: packaging>=22.0 in /usr/local/lib/python3.10/dist-packages (from black>=21->jupyter_black) (24.0)\n",
            "Collecting pathspec>=0.9.0 (from black>=21->jupyter_black)\n",
            "  Downloading pathspec-0.12.1-py3-none-any.whl (31 kB)\n",
            "Requirement already satisfied: platformdirs>=2 in /usr/local/lib/python3.10/dist-packages (from black>=21->jupyter_black) (4.2.0)\n",
            "Requirement already satisfied: tomli>=1.1.0 in /usr/local/lib/python3.10/dist-packages (from black>=21->jupyter_black) (2.0.1)\n",
            "Requirement already satisfied: typing-extensions>=4.0.1 in /usr/local/lib/python3.10/dist-packages (from black>=21->jupyter_black) (4.10.0)\n",
            "Requirement already satisfied: setuptools>=18.5 in /usr/local/lib/python3.10/dist-packages (from ipython>=7->jupyter_black) (67.7.2)\n",
            "Collecting jedi>=0.16 (from ipython>=7->jupyter_black)\n",
            "  Downloading jedi-0.19.1-py2.py3-none-any.whl (1.6 MB)\n",
            "\u001b[2K     \u001b[90m━━━━━━━━━━━━━━━━━━━━━━━━━━━━━━━━━━━━━━━━\u001b[0m \u001b[32m1.6/1.6 MB\u001b[0m \u001b[31m51.7 MB/s\u001b[0m eta \u001b[36m0:00:00\u001b[0m\n",
            "\u001b[?25hRequirement already satisfied: decorator in /usr/local/lib/python3.10/dist-packages (from ipython>=7->jupyter_black) (4.4.2)\n",
            "Requirement already satisfied: pickleshare in /usr/local/lib/python3.10/dist-packages (from ipython>=7->jupyter_black) (0.7.5)\n",
            "Requirement already satisfied: traitlets>=4.2 in /usr/local/lib/python3.10/dist-packages (from ipython>=7->jupyter_black) (5.7.1)\n",
            "Requirement already satisfied: prompt-toolkit!=3.0.0,!=3.0.1,<3.1.0,>=2.0.0 in /usr/local/lib/python3.10/dist-packages (from ipython>=7->jupyter_black) (3.0.43)\n",
            "Requirement already satisfied: pygments in /usr/local/lib/python3.10/dist-packages (from ipython>=7->jupyter_black) (2.16.1)\n",
            "Requirement already satisfied: backcall in /usr/local/lib/python3.10/dist-packages (from ipython>=7->jupyter_black) (0.2.0)\n",
            "Requirement already satisfied: matplotlib-inline in /usr/local/lib/python3.10/dist-packages (from ipython>=7->jupyter_black) (0.1.6)\n",
            "Requirement already satisfied: pexpect>4.3 in /usr/local/lib/python3.10/dist-packages (from ipython>=7->jupyter_black) (4.9.0)\n",
            "Requirement already satisfied: parso<0.9.0,>=0.8.3 in /usr/local/lib/python3.10/dist-packages (from jedi>=0.16->ipython>=7->jupyter_black) (0.8.3)\n",
            "Requirement already satisfied: ptyprocess>=0.5 in /usr/local/lib/python3.10/dist-packages (from pexpect>4.3->ipython>=7->jupyter_black) (0.7.0)\n",
            "Requirement already satisfied: wcwidth in /usr/local/lib/python3.10/dist-packages (from prompt-toolkit!=3.0.0,!=3.0.1,<3.1.0,>=2.0.0->ipython>=7->jupyter_black) (0.2.13)\n",
            "Installing collected packages: tokenize-rt, pathspec, mypy-extensions, jedi, black, jupyter_black\n",
            "Successfully installed black-24.3.0 jedi-0.19.1 jupyter_black-0.3.4 mypy-extensions-1.0.0 pathspec-0.12.1 tokenize-rt-5.2.0\n"
          ]
        }
      ]
    },
    {
      "cell_type": "code",
      "execution_count": null,
      "id": "7fe1a9aa-5735-4614-9a76-031656397899",
      "metadata": {
        "colab": {
          "base_uri": "https://localhost:8080/",
          "height": 17
        },
        "id": "7fe1a9aa-5735-4614-9a76-031656397899",
        "outputId": "86a3b99d-f27b-4a2d-9e2e-e7804fa9bf6b"
      },
      "outputs": [
        {
          "output_type": "display_data",
          "data": {
            "text/plain": [
              "<IPython.core.display.HTML object>"
            ],
            "text/html": [
              "\n",
              "                <script type=\"application/javascript\" id=\"jupyter_black\">\n",
              "                (function() {\n",
              "                    if (window.IPython === undefined) {\n",
              "                        return\n",
              "                    }\n",
              "                    var msg = \"WARNING: it looks like you might have loaded \" +\n",
              "                        \"jupyter_black in a non-lab notebook with \" +\n",
              "                        \"`is_lab=True`. Please double check, and if \" +\n",
              "                        \"loading with `%load_ext` please review the README!\"\n",
              "                    console.log(msg)\n",
              "                    alert(msg)\n",
              "                })()\n",
              "                </script>\n",
              "                "
            ]
          },
          "metadata": {}
        }
      ],
      "source": [
        "# for autoformatting\n",
        "%load_ext jupyter_black"
      ]
    },
    {
      "cell_type": "markdown",
      "id": "8188798b-daf5-43a7-91ec-a7a922bc2034",
      "metadata": {
        "id": "8188798b-daf5-43a7-91ec-a7a922bc2034"
      },
      "source": [
        "## Install Dependencies"
      ]
    },
    {
      "cell_type": "code",
      "execution_count": null,
      "id": "0b55494c-fff2-4459-87e1-e7399afd56d5",
      "metadata": {
        "colab": {
          "base_uri": "https://localhost:8080/"
        },
        "id": "0b55494c-fff2-4459-87e1-e7399afd56d5",
        "outputId": "b66985c4-c51e-4d0b-be11-2588c88e8dfd"
      },
      "outputs": [
        {
          "output_type": "stream",
          "name": "stdout",
          "text": [
            "Collecting git+https://github.com/araffin/rlss23-dqn-tutorial/\n",
            "  Cloning https://github.com/araffin/rlss23-dqn-tutorial/ to /tmp/pip-req-build-tjfu7pip\n",
            "  Running command git clone --filter=blob:none --quiet https://github.com/araffin/rlss23-dqn-tutorial/ /tmp/pip-req-build-tjfu7pip\n",
            "  Resolved https://github.com/araffin/rlss23-dqn-tutorial/ to commit 3070ad0d11f0ece870fb0f6978dc75911edeaca1\n",
            "  Installing build dependencies ... \u001b[?25l\u001b[?25hdone\n",
            "  Getting requirements to build wheel ... \u001b[?25l\u001b[?25hdone\n",
            "  Installing backend dependencies ... \u001b[?25l\u001b[?25hdone\n",
            "  Preparing metadata (pyproject.toml) ... \u001b[?25l\u001b[?25hdone\n",
            "Requirement already satisfied: numpy in /usr/local/lib/python3.10/dist-packages (from dqn_tutorial==0.1.dev52+g3070ad0) (1.25.2)\n",
            "Collecting gymnasium[classic-control]<1.0,>=0.28.1 (from dqn_tutorial==0.1.dev52+g3070ad0)\n",
            "  Downloading gymnasium-0.29.1-py3-none-any.whl (953 kB)\n",
            "\u001b[2K     \u001b[90m━━━━━━━━━━━━━━━━━━━━━━━━━━━━━━━━━━━━━━━━\u001b[0m \u001b[32m953.9/953.9 kB\u001b[0m \u001b[31m6.0 MB/s\u001b[0m eta \u001b[36m0:00:00\u001b[0m\n",
            "\u001b[?25hRequirement already satisfied: scikit-learn in /usr/local/lib/python3.10/dist-packages (from dqn_tutorial==0.1.dev52+g3070ad0) (1.2.2)\n",
            "Requirement already satisfied: torch>=1.7.0 in /usr/local/lib/python3.10/dist-packages (from dqn_tutorial==0.1.dev52+g3070ad0) (2.2.1+cu121)\n",
            "Requirement already satisfied: cloudpickle>=1.2.0 in /usr/local/lib/python3.10/dist-packages (from gymnasium[classic-control]<1.0,>=0.28.1->dqn_tutorial==0.1.dev52+g3070ad0) (2.2.1)\n",
            "Requirement already satisfied: typing-extensions>=4.3.0 in /usr/local/lib/python3.10/dist-packages (from gymnasium[classic-control]<1.0,>=0.28.1->dqn_tutorial==0.1.dev52+g3070ad0) (4.10.0)\n",
            "Collecting farama-notifications>=0.0.1 (from gymnasium[classic-control]<1.0,>=0.28.1->dqn_tutorial==0.1.dev52+g3070ad0)\n",
            "  Downloading Farama_Notifications-0.0.4-py3-none-any.whl (2.5 kB)\n",
            "Requirement already satisfied: pygame>=2.1.3 in /usr/local/lib/python3.10/dist-packages (from gymnasium[classic-control]<1.0,>=0.28.1->dqn_tutorial==0.1.dev52+g3070ad0) (2.5.2)\n",
            "Requirement already satisfied: filelock in /usr/local/lib/python3.10/dist-packages (from torch>=1.7.0->dqn_tutorial==0.1.dev52+g3070ad0) (3.13.1)\n",
            "Requirement already satisfied: sympy in /usr/local/lib/python3.10/dist-packages (from torch>=1.7.0->dqn_tutorial==0.1.dev52+g3070ad0) (1.12)\n",
            "Requirement already satisfied: networkx in /usr/local/lib/python3.10/dist-packages (from torch>=1.7.0->dqn_tutorial==0.1.dev52+g3070ad0) (3.2.1)\n",
            "Requirement already satisfied: jinja2 in /usr/local/lib/python3.10/dist-packages (from torch>=1.7.0->dqn_tutorial==0.1.dev52+g3070ad0) (3.1.3)\n",
            "Requirement already satisfied: fsspec in /usr/local/lib/python3.10/dist-packages (from torch>=1.7.0->dqn_tutorial==0.1.dev52+g3070ad0) (2023.6.0)\n",
            "Collecting nvidia-cuda-nvrtc-cu12==12.1.105 (from torch>=1.7.0->dqn_tutorial==0.1.dev52+g3070ad0)\n",
            "  Downloading nvidia_cuda_nvrtc_cu12-12.1.105-py3-none-manylinux1_x86_64.whl (23.7 MB)\n",
            "\u001b[2K     \u001b[90m━━━━━━━━━━━━━━━━━━━━━━━━━━━━━━━━━━━━━━━━\u001b[0m \u001b[32m23.7/23.7 MB\u001b[0m \u001b[31m37.1 MB/s\u001b[0m eta \u001b[36m0:00:00\u001b[0m\n",
            "\u001b[?25hCollecting nvidia-cuda-runtime-cu12==12.1.105 (from torch>=1.7.0->dqn_tutorial==0.1.dev52+g3070ad0)\n",
            "  Downloading nvidia_cuda_runtime_cu12-12.1.105-py3-none-manylinux1_x86_64.whl (823 kB)\n",
            "\u001b[2K     \u001b[90m━━━━━━━━━━━━━━━━━━━━━━━━━━━━━━━━━━━━━━━━\u001b[0m \u001b[32m823.6/823.6 kB\u001b[0m \u001b[31m51.7 MB/s\u001b[0m eta \u001b[36m0:00:00\u001b[0m\n",
            "\u001b[?25hCollecting nvidia-cuda-cupti-cu12==12.1.105 (from torch>=1.7.0->dqn_tutorial==0.1.dev52+g3070ad0)\n",
            "  Downloading nvidia_cuda_cupti_cu12-12.1.105-py3-none-manylinux1_x86_64.whl (14.1 MB)\n",
            "\u001b[2K     \u001b[90m━━━━━━━━━━━━━━━━━━━━━━━━━━━━━━━━━━━━━━━━\u001b[0m \u001b[32m14.1/14.1 MB\u001b[0m \u001b[31m41.4 MB/s\u001b[0m eta \u001b[36m0:00:00\u001b[0m\n",
            "\u001b[?25hCollecting nvidia-cudnn-cu12==8.9.2.26 (from torch>=1.7.0->dqn_tutorial==0.1.dev52+g3070ad0)\n",
            "  Downloading nvidia_cudnn_cu12-8.9.2.26-py3-none-manylinux1_x86_64.whl (731.7 MB)\n",
            "\u001b[2K     \u001b[90m━━━━━━━━━━━━━━━━━━━━━━━━━━━━━━━━━━━━━━━━\u001b[0m \u001b[32m731.7/731.7 MB\u001b[0m \u001b[31m1.3 MB/s\u001b[0m eta \u001b[36m0:00:00\u001b[0m\n",
            "\u001b[?25hCollecting nvidia-cublas-cu12==12.1.3.1 (from torch>=1.7.0->dqn_tutorial==0.1.dev52+g3070ad0)\n",
            "  Downloading nvidia_cublas_cu12-12.1.3.1-py3-none-manylinux1_x86_64.whl (410.6 MB)\n",
            "\u001b[2K     \u001b[90m━━━━━━━━━━━━━━━━━━━━━━━━━━━━━━━━━━━━━━━━\u001b[0m \u001b[32m410.6/410.6 MB\u001b[0m \u001b[31m2.5 MB/s\u001b[0m eta \u001b[36m0:00:00\u001b[0m\n",
            "\u001b[?25hCollecting nvidia-cufft-cu12==11.0.2.54 (from torch>=1.7.0->dqn_tutorial==0.1.dev52+g3070ad0)\n",
            "  Downloading nvidia_cufft_cu12-11.0.2.54-py3-none-manylinux1_x86_64.whl (121.6 MB)\n",
            "\u001b[2K     \u001b[90m━━━━━━━━━━━━━━━━━━━━━━━━━━━━━━━━━━━━━━━━\u001b[0m \u001b[32m121.6/121.6 MB\u001b[0m \u001b[31m3.6 MB/s\u001b[0m eta \u001b[36m0:00:00\u001b[0m\n",
            "\u001b[?25hCollecting nvidia-curand-cu12==10.3.2.106 (from torch>=1.7.0->dqn_tutorial==0.1.dev52+g3070ad0)\n",
            "  Downloading nvidia_curand_cu12-10.3.2.106-py3-none-manylinux1_x86_64.whl (56.5 MB)\n",
            "\u001b[2K     \u001b[90m━━━━━━━━━━━━━━━━━━━━━━━━━━━━━━━━━━━━━━━━\u001b[0m \u001b[32m56.5/56.5 MB\u001b[0m \u001b[31m4.1 MB/s\u001b[0m eta \u001b[36m0:00:00\u001b[0m\n",
            "\u001b[?25hCollecting nvidia-cusolver-cu12==11.4.5.107 (from torch>=1.7.0->dqn_tutorial==0.1.dev52+g3070ad0)\n",
            "  Downloading nvidia_cusolver_cu12-11.4.5.107-py3-none-manylinux1_x86_64.whl (124.2 MB)\n",
            "\u001b[2K     \u001b[90m━━━━━━━━━━━━━━━━━━━━━━━━━━━━━━━━━━━━━━━━\u001b[0m \u001b[32m124.2/124.2 MB\u001b[0m \u001b[31m4.6 MB/s\u001b[0m eta \u001b[36m0:00:00\u001b[0m\n",
            "\u001b[?25hCollecting nvidia-cusparse-cu12==12.1.0.106 (from torch>=1.7.0->dqn_tutorial==0.1.dev52+g3070ad0)\n",
            "  Downloading nvidia_cusparse_cu12-12.1.0.106-py3-none-manylinux1_x86_64.whl (196.0 MB)\n",
            "\u001b[2K     \u001b[90m━━━━━━━━━━━━━━━━━━━━━━━━━━━━━━━━━━━━━━━━\u001b[0m \u001b[32m196.0/196.0 MB\u001b[0m \u001b[31m4.2 MB/s\u001b[0m eta \u001b[36m0:00:00\u001b[0m\n",
            "\u001b[?25hCollecting nvidia-nccl-cu12==2.19.3 (from torch>=1.7.0->dqn_tutorial==0.1.dev52+g3070ad0)\n",
            "  Downloading nvidia_nccl_cu12-2.19.3-py3-none-manylinux1_x86_64.whl (166.0 MB)\n",
            "\u001b[2K     \u001b[90m━━━━━━━━━━━━━━━━━━━━━━━━━━━━━━━━━━━━━━━━\u001b[0m \u001b[32m166.0/166.0 MB\u001b[0m \u001b[31m5.1 MB/s\u001b[0m eta \u001b[36m0:00:00\u001b[0m\n",
            "\u001b[?25hCollecting nvidia-nvtx-cu12==12.1.105 (from torch>=1.7.0->dqn_tutorial==0.1.dev52+g3070ad0)\n",
            "  Downloading nvidia_nvtx_cu12-12.1.105-py3-none-manylinux1_x86_64.whl (99 kB)\n",
            "\u001b[2K     \u001b[90m━━━━━━━━━━━━━━━━━━━━━━━━━━━━━━━━━━━━━━━━\u001b[0m \u001b[32m99.1/99.1 kB\u001b[0m \u001b[31m10.5 MB/s\u001b[0m eta \u001b[36m0:00:00\u001b[0m\n",
            "\u001b[?25hRequirement already satisfied: triton==2.2.0 in /usr/local/lib/python3.10/dist-packages (from torch>=1.7.0->dqn_tutorial==0.1.dev52+g3070ad0) (2.2.0)\n",
            "Collecting nvidia-nvjitlink-cu12 (from nvidia-cusolver-cu12==11.4.5.107->torch>=1.7.0->dqn_tutorial==0.1.dev52+g3070ad0)\n",
            "  Downloading nvidia_nvjitlink_cu12-12.4.99-py3-none-manylinux2014_x86_64.whl (21.1 MB)\n",
            "\u001b[2K     \u001b[90m━━━━━━━━━━━━━━━━━━━━━━━━━━━━━━━━━━━━━━━━\u001b[0m \u001b[32m21.1/21.1 MB\u001b[0m \u001b[31m13.2 MB/s\u001b[0m eta \u001b[36m0:00:00\u001b[0m\n",
            "\u001b[?25hRequirement already satisfied: scipy>=1.3.2 in /usr/local/lib/python3.10/dist-packages (from scikit-learn->dqn_tutorial==0.1.dev52+g3070ad0) (1.11.4)\n",
            "Requirement already satisfied: joblib>=1.1.1 in /usr/local/lib/python3.10/dist-packages (from scikit-learn->dqn_tutorial==0.1.dev52+g3070ad0) (1.3.2)\n",
            "Requirement already satisfied: threadpoolctl>=2.0.0 in /usr/local/lib/python3.10/dist-packages (from scikit-learn->dqn_tutorial==0.1.dev52+g3070ad0) (3.3.0)\n",
            "Requirement already satisfied: MarkupSafe>=2.0 in /usr/local/lib/python3.10/dist-packages (from jinja2->torch>=1.7.0->dqn_tutorial==0.1.dev52+g3070ad0) (2.1.5)\n",
            "Requirement already satisfied: mpmath>=0.19 in /usr/local/lib/python3.10/dist-packages (from sympy->torch>=1.7.0->dqn_tutorial==0.1.dev52+g3070ad0) (1.3.0)\n",
            "Building wheels for collected packages: dqn_tutorial\n",
            "  Building wheel for dqn_tutorial (pyproject.toml) ... \u001b[?25l\u001b[?25hdone\n",
            "  Created wheel for dqn_tutorial: filename=dqn_tutorial-0.1.dev52+g3070ad0-py3-none-any.whl size=19451 sha256=df666903f83463cee05652d1c410cb0fda37de1d8edb8426b65fbf297f9bdada\n",
            "  Stored in directory: /tmp/pip-ephem-wheel-cache-hu2cbjrz/wheels/eb/01/e5/e10c90ef93e4de9e05cf38717b3ab8a9bdc71982eb2eecf9a3\n",
            "Successfully built dqn_tutorial\n",
            "Installing collected packages: farama-notifications, nvidia-nvtx-cu12, nvidia-nvjitlink-cu12, nvidia-nccl-cu12, nvidia-curand-cu12, nvidia-cufft-cu12, nvidia-cuda-runtime-cu12, nvidia-cuda-nvrtc-cu12, nvidia-cuda-cupti-cu12, nvidia-cublas-cu12, gymnasium, nvidia-cusparse-cu12, nvidia-cudnn-cu12, nvidia-cusolver-cu12, dqn_tutorial\n",
            "Successfully installed dqn_tutorial-0.1.dev52+g3070ad0 farama-notifications-0.0.4 gymnasium-0.29.1 nvidia-cublas-cu12-12.1.3.1 nvidia-cuda-cupti-cu12-12.1.105 nvidia-cuda-nvrtc-cu12-12.1.105 nvidia-cuda-runtime-cu12-12.1.105 nvidia-cudnn-cu12-8.9.2.26 nvidia-cufft-cu12-11.0.2.54 nvidia-curand-cu12-10.3.2.106 nvidia-cusolver-cu12-11.4.5.107 nvidia-cusparse-cu12-12.1.0.106 nvidia-nccl-cu12-2.19.3 nvidia-nvjitlink-cu12-12.4.99 nvidia-nvtx-cu12-12.1.105\n"
          ]
        }
      ],
      "source": [
        "!pip install git+https://github.com/araffin/rlss23-dqn-tutorial/ --upgrade"
      ]
    },
    {
      "cell_type": "code",
      "execution_count": null,
      "id": "fae52974-fda2-487a-9f64-80bf58125785",
      "metadata": {
        "colab": {
          "base_uri": "https://localhost:8080/"
        },
        "id": "fae52974-fda2-487a-9f64-80bf58125785",
        "outputId": "1e9e8ee3-2561-429d-8eae-df83cb9654b4"
      },
      "outputs": [
        {
          "output_type": "stream",
          "name": "stdout",
          "text": [
            "Reading package lists... Done\n",
            "Building dependency tree... Done\n",
            "Reading state information... Done\n",
            "ffmpeg is already the newest version (7:4.4.2-0ubuntu0.22.04.1).\n",
            "0 upgraded, 0 newly installed, 0 to remove and 38 not upgraded.\n"
          ]
        }
      ],
      "source": [
        "!apt-get install ffmpeg  # For visualization"
      ]
    },
    {
      "cell_type": "markdown",
      "id": "e2369b55-266c-4dbe-b14d-250ef7386407",
      "metadata": {
        "id": "e2369b55-266c-4dbe-b14d-250ef7386407"
      },
      "source": [
        "## First steps with the Gym interface\n",
        "\n",
        "An environment that follows the [gym interface](https://gymnasium.farama.org/) is quite simple to use.\n",
        "It provides to this user mainly three methods, which have the following signature (for gym versions > 0.26):\n",
        "\n",
        "- `reset()` called at the beginning of an episode, it returns an observation and a dictionary with additional info (defaults to an empty dict)\n",
        "- `step(action)` called to take an action with the environment, it returns the next observation, the immediate reward, whether new state is a terminal state (episode is finished), whether the max number of timesteps is reached (episode is artificially finished), and additional information\n",
        "- (Optional) `render()` which allow to visualize the agent in action. Note that graphical interface does not work on google colab, so we cannot use it directly (we have to rely on `render_mode='rbg_array'` to retrieve an image of the scene).\n",
        "\n",
        "Under the hood, it also contains two useful properties:\n",
        "- `observation_space` which one of the gym spaces (`Discrete`, `Box`, ...) and describe the type and shape of the observation\n",
        "- `action_space` which is also a gym space object that describes the action space, so the type of action that can be taken\n",
        "\n",
        "The best way to learn about [gym spaces](https://gymnasium.farama.org/api/spaces/) is to look at the [source code](https://github.com/Farama-Foundation/Gymnasium/tree/main/gymnasium/spaces), but you need to know at least the main ones:\n",
        "- `gym.spaces.Box`: A (possibly unbounded) box in $R^n$. Specifically, a Box represents the Cartesian product of n closed intervals. Each interval has the form of one of [a, b], (-oo, b], [a, oo), or (-oo, oo). Example: A 1D-Vector or an image observation can be described with the Box space.\n",
        "```python\n",
        "# Example for using image as input:\n",
        "observation_space = spaces.Box(low=0, high=255, shape=(HEIGHT, WIDTH, N_CHANNELS), dtype=np.uint8)\n",
        "```                                       \n",
        "\n",
        "- `gym.spaces.Discrete`: A discrete space in $\\{ 0, 1, \\dots, n-1 \\}$\n",
        "  Example: if you have two actions (\"left\" and \"right\") you can represent your action space using `Discrete(2)`, the first action will be 0 and the second 1."
      ]
    },
    {
      "cell_type": "markdown",
      "id": "af049724-3db9-4dec-a40c-3aa025735f00",
      "metadata": {
        "id": "af049724-3db9-4dec-a40c-3aa025735f00"
      },
      "source": [
        "## CartPole Environment\n",
        "\n",
        "For this example, we will use CartPole environment, a classic control problem.\n",
        "\n",
        "\"A pole is attached by an un-actuated joint to a cart, which moves along a frictionless track. The system is controlled by applying a force of +1 or -1 to the cart. The pendulum starts upright, and the goal is to prevent it from falling over. A reward of +1 is provided for every timestep that the pole remains upright. \"\n",
        "\n",
        "Cartpole environment: [https://gymnasium.farama.org/environments/classic_control/cart_pole/](https://gymnasium.farama.org/environments/classic_control/cart_pole/)\n",
        "\n",
        "![Cartpole](https://cdn-images-1.medium.com/max/1143/1*h4WTQNVIsvMXJTCpXm_TAw.gif)"
      ]
    },
    {
      "cell_type": "code",
      "execution_count": null,
      "id": "60ec422f-2edd-40df-8da2-c1093e1da38c",
      "metadata": {
        "id": "60ec422f-2edd-40df-8da2-c1093e1da38c"
      },
      "outputs": [],
      "source": [
        "import gymnasium as gym\n",
        "\n",
        "# Instantiate the environment\n",
        "env = gym.make(\"CartPole-v1\")"
      ]
    },
    {
      "cell_type": "code",
      "execution_count": null,
      "id": "476f88b6-4fe2-45ec-bddd-4d83feb3a86f",
      "metadata": {
        "colab": {
          "base_uri": "https://localhost:8080/"
        },
        "id": "476f88b6-4fe2-45ec-bddd-4d83feb3a86f",
        "outputId": "b1fe3e77-64e3-486b-c194-963bf501318c"
      },
      "outputs": [
        {
          "output_type": "stream",
          "name": "stdout",
          "text": [
            "Observation space: Box([-4.8000002e+00 -3.4028235e+38 -4.1887903e-01 -3.4028235e+38], [4.8000002e+00 3.4028235e+38 4.1887903e-01 3.4028235e+38], (4,), float32)\n",
            "Shape: (4,)\n",
            "Action space: Discrete(2)\n"
          ]
        }
      ],
      "source": [
        "# Box(4,) means that it is a Vector with 4 components\n",
        "print(\"Observation space:\", env.observation_space)\n",
        "print(\"Shape:\", env.observation_space.shape)\n",
        "# Discrete(2) means that there is two discrete actions\n",
        "print(\"Action space:\", env.action_space)"
      ]
    },
    {
      "cell_type": "code",
      "execution_count": null,
      "id": "e414990e-2cbd-4f6f-b268-42f16a9b253b",
      "metadata": {
        "id": "e414990e-2cbd-4f6f-b268-42f16a9b253b"
      },
      "outputs": [],
      "source": [
        "# The reset method is called at the beginning of an episode\n",
        "obs, info = env.reset()"
      ]
    },
    {
      "cell_type": "code",
      "execution_count": null,
      "id": "e89a95c8-d64a-43a3-adee-344891bbd1b7",
      "metadata": {
        "colab": {
          "base_uri": "https://localhost:8080/"
        },
        "id": "e89a95c8-d64a-43a3-adee-344891bbd1b7",
        "outputId": "24610c53-499b-45e5-ae12-5d8dc32c6238"
      },
      "outputs": [
        {
          "output_type": "stream",
          "name": "stdout",
          "text": [
            "Sampled action: 0\n"
          ]
        }
      ],
      "source": [
        "# Sample a random action\n",
        "action = env.action_space.sample()\n",
        "print(f\"Sampled action: {action}\")"
      ]
    },
    {
      "cell_type": "code",
      "execution_count": null,
      "id": "311777a2-9518-496a-b1e8-0eb1af81fb7d",
      "metadata": {
        "id": "311777a2-9518-496a-b1e8-0eb1af81fb7d"
      },
      "outputs": [],
      "source": [
        "# step in the environment\n",
        "obs, reward, terminated, truncated, info = env.step(action)"
      ]
    },
    {
      "cell_type": "code",
      "execution_count": null,
      "id": "5102a9c8-8407-4f88-b58d-4e3e5a00af3b",
      "metadata": {
        "colab": {
          "base_uri": "https://localhost:8080/"
        },
        "id": "5102a9c8-8407-4f88-b58d-4e3e5a00af3b",
        "outputId": "ede90ff9-1ae3-4ddd-b104-1d47d67a6cee"
      },
      "outputs": [
        {
          "output_type": "stream",
          "name": "stdout",
          "text": [
            "(4,) 1.0 False False {}\n"
          ]
        }
      ],
      "source": [
        "# Note the obs is a numpy array\n",
        "# info is an empty dict for now but can contain any debugging info\n",
        "# reward is a scalar\n",
        "print(obs.shape, reward, terminated, truncated, info)"
      ]
    },
    {
      "cell_type": "markdown",
      "id": "90fbec50-1da0-4bc4-8b88-79fa38480bfe",
      "metadata": {
        "id": "90fbec50-1da0-4bc4-8b88-79fa38480bfe"
      },
      "source": [
        "### Exercise (10 minutes): write the function to collect data\n",
        "\n",
        "This function collects an offline dataset of transitions that will be used to train a model using the FQI algorithm.\n",
        "\n",
        "See docstring of the function for what is expected as input/output."
      ]
    },
    {
      "cell_type": "code",
      "execution_count": null,
      "id": "1f1b3ff1-911b-4582-91f7-49420380eda3",
      "metadata": {
        "id": "1f1b3ff1-911b-4582-91f7-49420380eda3"
      },
      "outputs": [],
      "source": [
        "from dataclasses import dataclass\n",
        "\n",
        "import numpy as np\n",
        "from gymnasium import spaces\n",
        "\n",
        "\n",
        "@dataclass\n",
        "class OfflineData:\n",
        "    \"\"\"\n",
        "    A class to store transitions.\n",
        "    \"\"\"\n",
        "\n",
        "    observations: np.ndarray  # same as \"state\" in the theory\n",
        "    next_observations: np.ndarray\n",
        "    actions: np.ndarray\n",
        "    rewards: np.ndarray\n",
        "    terminateds: np.ndarray"
      ]
    },
    {
      "cell_type": "code",
      "execution_count": null,
      "id": "f9f753ed-5f5d-4133-ab82-c84b3cfe2eef",
      "metadata": {
        "id": "f9f753ed-5f5d-4133-ab82-c84b3cfe2eef"
      },
      "outputs": [],
      "source": [
        "def collect_data(env_id: str, n_steps: int = 50_000) -> OfflineData:\n",
        "    \"\"\"\n",
        "    Collect transitions using a random agent (sample action randomly).\n",
        "\n",
        "    :param env_id: The name of the environment.\n",
        "    :param n_steps: Number of steps to perform in the env.\n",
        "    :return: The collected transitions.\n",
        "    \"\"\"\n",
        "    # Create the Gym env\n",
        "    env = gym.make(env_id)\n",
        "\n",
        "    assert isinstance(env.observation_space, spaces.Box)\n",
        "    # Numpy arrays (buffers) to collect the data\n",
        "    observations = np.zeros((n_steps, *env.observation_space.shape))\n",
        "    next_observations = np.zeros((n_steps, *env.observation_space.shape))\n",
        "    # Discrete actions\n",
        "    actions = np.zeros((n_steps, 1))\n",
        "    rewards = np.zeros((n_steps,))\n",
        "    terminateds = np.zeros((n_steps,))\n",
        "\n",
        "    # Variable to know if the episode is over (done = terminated or truncated)\n",
        "    done = False\n",
        "    # Start the first episode\n",
        "    obs, _ = env.reset()\n",
        "\n",
        "    ### YOUR CODE HERE\n",
        "    # You need to collect transitions for `n_steps` using\n",
        "    # a random agent (sample action uniformly).\n",
        "    # Do not forget to reset the environment if the current episode is over\n",
        "    # (done = terminated or truncated)\n",
        "    #\n",
        "    # TODO:\n",
        "    # 1. Sample a random action\n",
        "    # 2. Step in the env using this random action\n",
        "    # 3. Retrieve the new transition data (observation, reward, ...)\n",
        "    #  and update the numpy arrays (buffers)\n",
        "    # 4. Repeat until you collected `n_steps` transitions\n",
        "\n",
        "    for idx in range(n_steps):\n",
        "        # Sample a random action\n",
        "        action = env.action_space.sample()\n",
        "        # Step in the environment\n",
        "        next_obs, reward, terminated, truncated, info_ = env.step(action)\n",
        "\n",
        "        # Store the transition\n",
        "        # Note: we only record true termination (timeouts/truncations are artificial terminations)\n",
        "        observations[idx, :] = obs\n",
        "        next_observations[idx, :] = next_obs\n",
        "        actions[idx, :] = action\n",
        "        rewards[idx] = reward\n",
        "        terminateds[idx] = terminated\n",
        "        # Update current observation\n",
        "        obs = next_obs\n",
        "        # Check if the episode is over\n",
        "        done = terminated or truncated\n",
        "\n",
        "        # Don't forget to reset the env at the end of an episode\n",
        "        if done:\n",
        "            obs, _ = env.reset()\n",
        "\n",
        "    ### END OF YOUR CODE\n",
        "\n",
        "    return OfflineData(\n",
        "        observations,\n",
        "        next_observations,\n",
        "        actions,\n",
        "        rewards,\n",
        "        terminateds,\n",
        "    )"
      ]
    },
    {
      "cell_type": "markdown",
      "id": "dbe5d4b3-d3d6-4f82-9337-a8566c1fc707",
      "metadata": {
        "id": "dbe5d4b3-d3d6-4f82-9337-a8566c1fc707"
      },
      "source": [
        "Let's try the collect data method:"
      ]
    },
    {
      "cell_type": "code",
      "execution_count": null,
      "id": "f499a940-a35f-4b8c-86bb-94231c41a87e",
      "metadata": {
        "id": "f499a940-a35f-4b8c-86bb-94231c41a87e"
      },
      "outputs": [],
      "source": [
        "env_id = \"CartPole-v1\"\n",
        "n_steps = 50_000\n",
        "# Collect transitions for n_steps\n",
        "data = collect_data(env_id=env_id, n_steps=n_steps)"
      ]
    },
    {
      "cell_type": "code",
      "execution_count": null,
      "id": "8ae0713b-63f3-40f0-8471-f3f7e3c53f88",
      "metadata": {
        "id": "8ae0713b-63f3-40f0-8471-f3f7e3c53f88"
      },
      "outputs": [],
      "source": [
        "# Check the length of the collected data\n",
        "assert len(data.observations) == n_steps\n",
        "assert len(data.actions) == n_steps\n",
        "# Check that there are multiple episodes in the data\n",
        "assert not np.all(data.terminateds)\n",
        "assert np.any(data.terminateds)\n",
        "# Check the shape of the collected data\n",
        "if env_id == \"CartPole-v1\":\n",
        "    assert data.observations.shape == (n_steps, 4)\n",
        "    assert data.next_observations.shape == (n_steps, 4)\n",
        "assert data.actions.shape == (n_steps, 1)\n",
        "assert data.rewards.shape == (n_steps,)"
      ]
    },
    {
      "cell_type": "code",
      "execution_count": null,
      "id": "f815ff42-3c8e-4ab5-835f-70438171751b",
      "metadata": {
        "colab": {
          "base_uri": "https://localhost:8080/"
        },
        "id": "f815ff42-3c8e-4ab5-835f-70438171751b",
        "outputId": "1603749f-03e3-46f2-8aa2-754c58d35ace"
      },
      "outputs": [
        {
          "output_type": "stream",
          "name": "stdout",
          "text": [
            "Saving to ../data/CartPole-v1_data.npz\n"
          ]
        }
      ],
      "source": [
        "from pathlib import Path\n",
        "\n",
        "from dqn_tutorial.fqi import save_data\n",
        "\n",
        "output_filename = Path(\"../data\") / f\"{env_id}_data\"\n",
        "# Create folder if it doesn't exist\n",
        "output_filename.parent.mkdir(parents=True, exist_ok=True)\n",
        "\n",
        "# Save collected data using numpy\n",
        "save_data(data, output_filename)"
      ]
    },
    {
      "cell_type": "markdown",
      "id": "2ff52b1a-6eb1-4284-b25f-8d59ab005ed5",
      "metadata": {
        "id": "2ff52b1a-6eb1-4284-b25f-8d59ab005ed5"
      },
      "source": [
        "## Fitted Q Iteration (FQI) Algorithm\n",
        "\n",
        "\n",
        "<div>\n",
        "    <img src=\"attachment:008df18a-8225-4766-aa89-c713f5f953af.png\" width=\"500\"/>\n",
        "</div>"
      ]
    },
    {
      "cell_type": "code",
      "execution_count": null,
      "id": "045b251a-9ace-450b-afa9-7ee4128cdef6",
      "metadata": {
        "id": "045b251a-9ace-450b-afa9-7ee4128cdef6"
      },
      "outputs": [],
      "source": [
        "from functools import partial\n",
        "from pathlib import Path\n",
        "from typing import Optional\n",
        "\n",
        "import gymnasium as gym\n",
        "import numpy as np\n",
        "from gymnasium import spaces\n",
        "from sklearn import tree\n",
        "from sklearn.base import RegressorMixin\n",
        "from sklearn.exceptions import NotFittedError\n",
        "from sklearn.ensemble import GradientBoostingRegressor, RandomForestRegressor\n",
        "from sklearn.linear_model import LinearRegression\n",
        "from sklearn.preprocessing import PolynomialFeatures\n",
        "from sklearn.neighbors import KNeighborsRegressor"
      ]
    },
    {
      "cell_type": "markdown",
      "id": "239ad0de-bec9-4918-a691-4322d062c45a",
      "metadata": {
        "id": "239ad0de-bec9-4918-a691-4322d062c45a"
      },
      "source": [
        "### Choosing a Model\n",
        "\n",
        "With FQI, you can use any regression model.\n",
        "\n",
        "Here we are choosing a [k-nearest neighbors regressor](https://scikit-learn.org/stable/modules/neighbors.html#regression), but one could choose a linear model, a decision tree, a neural network, ..."
      ]
    },
    {
      "cell_type": "code",
      "execution_count": null,
      "id": "1d8d873e-bc40-4a35-b98b-4fe9ce916aab",
      "metadata": {
        "id": "1d8d873e-bc40-4a35-b98b-4fe9ce916aab"
      },
      "outputs": [],
      "source": [
        "# First choose the regressor\n",
        "model_class = partial(KNeighborsRegressor, n_neighbors=30)  # LinearRegression, GradientBoostingRegressor"
      ]
    },
    {
      "cell_type": "markdown",
      "id": "be7a24b4-a416-4607-af3a-9dfdbc203fc1",
      "metadata": {
        "id": "be7a24b4-a416-4607-af3a-9dfdbc203fc1"
      },
      "source": [
        "### Loading offline dataset"
      ]
    },
    {
      "cell_type": "code",
      "execution_count": null,
      "id": "1fe29bd2-ea95-4778-b466-537a088615b0",
      "metadata": {
        "id": "1fe29bd2-ea95-4778-b466-537a088615b0"
      },
      "outputs": [],
      "source": [
        "from dqn_tutorial.fqi import load_data\n",
        "\n",
        "env_id = \"CartPole-v1\"\n",
        "output_filename = Path(\"../data\") / f\"{env_id}_data.npz\"\n",
        "render_mode = \"rgb_array\"\n",
        "\n",
        "# Create test environment\n",
        "env = gym.make(env_id, render_mode=render_mode)\n",
        "\n",
        "# Load saved transitions\n",
        "data = load_data(output_filename)"
      ]
    },
    {
      "cell_type": "markdown",
      "id": "a7c0f461-9c04-48f2-ad57-21b555a7c041",
      "metadata": {
        "id": "a7c0f461-9c04-48f2-ad57-21b555a7c041"
      },
      "source": [
        "### First Iteration\n",
        "\n",
        "For $n = 0$, the initial training set is defined as:\n",
        "\n",
        "- $x = (s_t, a_t)$\n",
        "- $y = r_t$\n",
        "\n",
        "We fit a regression model $f_\\theta(x) = y$ to obtain $ Q^{n=0}_\\theta(s, a) $"
      ]
    },
    {
      "cell_type": "code",
      "execution_count": null,
      "id": "26940b3e-4c9a-4632-a198-2e0ce7b12b88",
      "metadata": {
        "id": "26940b3e-4c9a-4632-a198-2e0ce7b12b88"
      },
      "outputs": [],
      "source": [
        "# First iteration:\n",
        "# The target q-value is the reward obtained\n",
        "targets = data.rewards.copy()\n",
        "# Create input for current observations and actions\n",
        "# Concatenate the observations and actions\n",
        "# so we can predict qf(s_t, a_t)\n",
        "current_obs_input = np.concatenate((data.observations, data.actions), axis=1)\n",
        "# Fit the estimator for the current target\n",
        "model = model_class().fit(current_obs_input, targets)"
      ]
    },
    {
      "cell_type": "markdown",
      "id": "5bf9544c-87f4-4872-9ae9-eef49c3a040a",
      "metadata": {
        "id": "5bf9544c-87f4-4872-9ae9-eef49c3a040a"
      },
      "source": [
        "### 1. Exercise (10 minutes): write the function to predict Q-Values\n",
        "\n",
        "\n",
        "<div>\n",
        "    <img src=\"attachment:e3d00cba-8345-4c65-8027-ab06d99d2305.png\" width=\"300\"/>\n",
        "</div>"
      ]
    },
    {
      "cell_type": "code",
      "execution_count": null,
      "id": "1d1c52d1-4336-4caa-9d91-cfb641e7972a",
      "metadata": {
        "id": "1d1c52d1-4336-4caa-9d91-cfb641e7972a"
      },
      "outputs": [],
      "source": [
        "def get_q_values(\n",
        "    model: RegressorMixin,\n",
        "    obs: np.ndarray,\n",
        "    n_actions: int,\n",
        ") -> np.ndarray:\n",
        "    \"\"\"\n",
        "    Retrieve the q-values for a set of observations.\n",
        "    qf(q_t, action) for all possible actions.\n",
        "\n",
        "    :param model: Q-value estimator\n",
        "    :param obs: A batch of observations\n",
        "    :param n_actions: Number of discrete actions.\n",
        "    :return: The predicted q-values for the given observations\n",
        "        (batch_size, n_actions)\n",
        "    \"\"\"\n",
        "    batch_size = len(obs)\n",
        "    q_values = np.zeros((batch_size, n_actions))\n",
        "\n",
        "    ### YOUR CODE HERE\n",
        "    # TODO: for every possible actions a:\n",
        "    # 1. Create the regression model input $(s, a)$ for the action a\n",
        "    # and states s (here a batch of observations)\n",
        "    # 2. Predict the q-values for the batch of states\n",
        "    # 3. Update q-values array for the current action a\n",
        "\n",
        "    # Predict q-value for each action\n",
        "    for action_idx in range(n_actions):\n",
        "        # Note: we should do one hot encoding if not using CartPole (n_actions > 2)\n",
        "        # Create a vector of size (batch_size, 1) for the current action\n",
        "        # This allows to do batch prediction for all the provided observations\n",
        "        actions = action_idx * np.ones((batch_size, 1))\n",
        "        # Concatenate the observations and the actions to obtain\n",
        "        # the input to the q-value estimator\n",
        "        # you can use `np.concatenate()`\n",
        "        model_input = np.concatenate((obs, actions), axis=1)\n",
        "        # Predict q-values for the given observation/action combination\n",
        "        # shape: (batch_size, 1)\n",
        "        predicted_q_values = model.predict(model_input)\n",
        "        # Update the q-values array for the current action\n",
        "        q_values[:, action_idx] = predicted_q_values\n",
        "\n",
        "    ### END OF YOUR CODE\n",
        "\n",
        "    return q_values"
      ]
    },
    {
      "cell_type": "markdown",
      "id": "353de669-1744-43be-a3dc-5310d23c72a4",
      "metadata": {
        "id": "353de669-1744-43be-a3dc-5310d23c72a4"
      },
      "source": [
        "Let's test it with a subset of the collected data:"
      ]
    },
    {
      "cell_type": "code",
      "execution_count": null,
      "id": "6910968b-16db-41fe-a6d9-ff8c65322c85",
      "metadata": {
        "id": "6910968b-16db-41fe-a6d9-ff8c65322c85"
      },
      "outputs": [],
      "source": [
        "n_observations = 2\n",
        "n_actions = int(env.action_space.n)\n",
        "\n",
        "q_values = get_q_values(model, data.observations[:n_observations], n_actions)\n",
        "\n",
        "assert q_values.shape == (n_observations, n_actions)"
      ]
    },
    {
      "cell_type": "markdown",
      "id": "a883ff38-48e9-4f7c-8692-33a9d1b325d2",
      "metadata": {
        "id": "a883ff38-48e9-4f7c-8692-33a9d1b325d2"
      },
      "source": [
        "### 2. Exercise (5 minutes): write the function to evaluate a model\n",
        "\n",
        "A greedy policy $\\pi(s)$ can be defined using the q-value:\n",
        "\n",
        "$\\pi(s) = argmax_{a \\in A} Q(s, a)$.\n",
        "\n",
        "It is the policy that take the action with the highest q-value for a given state."
      ]
    },
    {
      "cell_type": "code",
      "execution_count": null,
      "id": "2b1f4b18-a811-43fa-925d-20ad2f4d52d7",
      "metadata": {
        "id": "2b1f4b18-a811-43fa-925d-20ad2f4d52d7"
      },
      "outputs": [],
      "source": [
        "import os\n",
        "\n",
        "from gymnasium.wrappers.monitoring.video_recorder import VideoRecorder\n",
        "\n",
        "\n",
        "def evaluate(\n",
        "    model: RegressorMixin,\n",
        "    env: gym.Env,\n",
        "    n_eval_episodes: int = 10,\n",
        "    video_name: Optional[str] = None,\n",
        ") -> None:\n",
        "    episode_returns, episode_reward = [], 0.0\n",
        "    total_episodes = 0\n",
        "    done = False\n",
        "\n",
        "    # Setup video recorder\n",
        "    video_recorder = None\n",
        "    if video_name is not None and env.render_mode == \"rgb_array\":\n",
        "        os.makedirs(\"../logs/videos/\", exist_ok=True)\n",
        "\n",
        "        video_recorder = VideoRecorder(\n",
        "            env=env,\n",
        "            base_path=f\"../logs/videos/{video_name}\",\n",
        "        )\n",
        "\n",
        "    obs, _ = env.reset()\n",
        "    n_actions = int(env.action_space.n)\n",
        "    assert isinstance(env.action_space, spaces.Discrete), \"FQI only support discrete actions\"\n",
        "\n",
        "    while total_episodes < n_eval_episodes:\n",
        "        # Record video\n",
        "        if video_recorder is not None:\n",
        "            video_recorder.capture_frame()\n",
        "\n",
        "        ### YOUR CODE HERE\n",
        "\n",
        "        # Retrieve the q-values for the current observation\n",
        "        # you need to re-use `get_q_values()`\n",
        "        # Note: you need to add a batch dimension to the observation\n",
        "        # you can use `obs[np.newaxis, ...]` for that: (obs_dim,) -> (batch_size=1, obs_dim)\n",
        "        q_values = get_q_values(\n",
        "            model,\n",
        "            obs[np.newaxis, ...],\n",
        "            n_actions,\n",
        "        )\n",
        "        # Select the action that maximizes the q-value for each state\n",
        "        # Don't forget to remove the batch dimension, you can `.item()` for that\n",
        "        best_action = int(np.argmax(q_values, axis=1).item())\n",
        "\n",
        "        # Send the action to the env\n",
        "        obs, reward, terminated, truncated, _ = env.step(best_action)\n",
        "\n",
        "        ### END OF YOUR CODE\n",
        "\n",
        "        episode_reward += float(reward)\n",
        "\n",
        "        done = terminated or truncated\n",
        "        if done:\n",
        "            episode_returns.append(episode_reward)\n",
        "            episode_reward = 0.0\n",
        "            total_episodes += 1\n",
        "            obs, _ = env.reset()\n",
        "\n",
        "    if video_recorder is not None:\n",
        "        print(f\"Saving video to {video_recorder.path}\")\n",
        "        video_recorder.close()\n",
        "\n",
        "    print(f\"Total reward = {np.mean(episode_returns):.2f} +/- {np.std(episode_returns):.2f}\")"
      ]
    },
    {
      "cell_type": "code",
      "execution_count": null,
      "id": "23e326d9-1fa7-4efd-a841-b1d9e5ef9484",
      "metadata": {
        "colab": {
          "base_uri": "https://localhost:8080/"
        },
        "id": "23e326d9-1fa7-4efd-a841-b1d9e5ef9484",
        "outputId": "b1c6ff77-1bb7-434c-e705-42e6eed4cbf4"
      },
      "outputs": [
        {
          "output_type": "stream",
          "name": "stdout",
          "text": [
            "Total reward = 9.40 +/- 0.49\n"
          ]
        }
      ],
      "source": [
        "# Evaluate the first iteration\n",
        "evaluate(model, env, n_eval_episodes=10)"
      ]
    },
    {
      "cell_type": "markdown",
      "id": "eced782e-653d-4041-8473-2c39d12ba9a9",
      "metadata": {
        "id": "eced782e-653d-4041-8473-2c39d12ba9a9"
      },
      "source": [
        "### 3. Exercise (15 minutes): the fitted Q iterations\n",
        "\n",
        "1. Create the training set based on the previous iteration $ Q^{n-1}_\\theta(s, a) $ and the transitions:\n",
        "- input: $x = (s_t, a_t)$\n",
        "- if $s_{t+1}$ is non-terminal: $y = r_t + \\gamma \\cdot \\max_{a' \\in A}(Q^{n-1}_\\theta(s_{t+1}, a'))$\n",
        "- if $s_{t+1}$ is terminal, do not bootstrap: $y = r_t$\n",
        "\n",
        "2. Fit a model $f_\\theta$ using a regression algorithm to obtain $ Q^{n}_\\theta(s, a)$\n",
        "\n",
        "\\begin{aligned}\n",
        " f_\\theta(x) = y\n",
        "\\end{aligned}\n",
        "\n",
        "4. Repeat, $n = n + 1$"
      ]
    },
    {
      "cell_type": "markdown",
      "id": "5d824b98-6360-4d4e-a3e2-584c0c36665e",
      "metadata": {
        "id": "5d824b98-6360-4d4e-a3e2-584c0c36665e"
      },
      "source": [
        "First, let's define some constants:"
      ]
    },
    {
      "cell_type": "code",
      "execution_count": null,
      "id": "7cbff0d8-eab0-4cec-847e-23bc1c509359",
      "metadata": {
        "id": "7cbff0d8-eab0-4cec-847e-23bc1c509359"
      },
      "outputs": [],
      "source": [
        "# Max number of iterations\n",
        "n_iterations = 20\n",
        "# How often do we evaluate the learned model\n",
        "eval_freq = 2\n",
        "# How many episodes to evaluate every eval-freq\n",
        "n_eval_episodes = 10\n",
        "# discount factor\n",
        "gamma = 0.99\n",
        "# Number of discrete actions\n",
        "n_actions = int(env.action_space.n)"
      ]
    },
    {
      "cell_type": "markdown",
      "id": "18d564da-7170-4bf8-8259-f19d0b12bcbd",
      "metadata": {
        "id": "18d564da-7170-4bf8-8259-f19d0b12bcbd"
      },
      "source": [
        "Then do several iteration of the FQI algorithm"
      ]
    },
    {
      "cell_type": "code",
      "execution_count": null,
      "id": "21c99207-4a80-4263-8b13-1818f65632e1",
      "metadata": {
        "colab": {
          "base_uri": "https://localhost:8080/"
        },
        "id": "21c99207-4a80-4263-8b13-1818f65632e1",
        "outputId": "2c63ff05-4e08-4a2e-baa8-df6cd50e0889"
      },
      "outputs": [
        {
          "output_type": "stream",
          "name": "stdout",
          "text": [
            "Iter 2\n",
            "Score: 0.72\n",
            "Total reward = 36.90 +/- 30.40\n",
            "Iter 4\n",
            "Score: 0.86\n",
            "Total reward = 127.30 +/- 21.87\n",
            "Iter 6\n",
            "Score: 0.90\n",
            "Total reward = 127.90 +/- 30.82\n",
            "Iter 8\n",
            "Score: 0.92\n",
            "Total reward = 123.70 +/- 45.98\n",
            "Iter 10\n",
            "Score: 0.92\n",
            "Total reward = 141.60 +/- 29.22\n",
            "Iter 12\n",
            "Score: 0.93\n",
            "Total reward = 162.80 +/- 31.98\n",
            "Iter 14\n",
            "Score: 0.93\n",
            "Total reward = 368.10 +/- 121.20\n",
            "Iter 16\n",
            "Score: 0.93\n",
            "Total reward = 349.80 +/- 103.83\n",
            "Iter 18\n",
            "Score: 0.94\n",
            "Total reward = 365.90 +/- 97.83\n",
            "Iter 20\n",
            "Score: 0.94\n",
            "Total reward = 364.90 +/- 114.33\n"
          ]
        }
      ],
      "source": [
        "for iter_idx in range(n_iterations):\n",
        "    ### YOUR CODE HERE\n",
        "    # TODO:\n",
        "    # 1. Compute the q values for the next states using\n",
        "    # the previous regression model\n",
        "    # 2. Keep only the next q values that correspond\n",
        "    # to the greedy-policy\n",
        "    # 3. Construct the regression target (TD(0) target)\n",
        "    # 4. Fit a new regression model with this new target\n",
        "\n",
        "    # Construct TD(0) target\n",
        "    # using current model and the next observations\n",
        "\n",
        "    # First, retrieve the q-values for the next states\n",
        "    # for all possible actions\n",
        "    # you need to use `get_q_values()` method\n",
        "    next_q_values = get_q_values(\n",
        "        model,\n",
        "        data.next_observations,\n",
        "        n_actions=n_actions,\n",
        "    )\n",
        "    # Follow-greedy policy: use the action with the highest q-value\n",
        "    # to compute the next q-values\n",
        "    next_q_values = next_q_values.max(axis=1)\n",
        "    # The new target is the reward + what our agent expect to get\n",
        "    # if it follows a greedy policy (follow action with the highest q-value)\n",
        "    # Reminder: you should not bootstrap if terminated=True\n",
        "    # (you can mask the next q values for that using `np.logical_not`)\n",
        "    should_bootstrap = np.logical_not(data.terminateds) # (1 - data.terminateds)\n",
        "    targets = data.rewards + gamma * should_bootstrap * next_q_values\n",
        "    # Update the q-value estimate with the current target,\n",
        "    # i.e., fit a regression model using the new target\n",
        "    model = model_class().fit(current_obs_input, targets)\n",
        "\n",
        "    ### END OF YOUR CODE\n",
        "\n",
        "    if (iter_idx + 1) % eval_freq == 0:\n",
        "        print(f\"Iter {iter_idx + 1}\")\n",
        "        print(f\"Score: {model.score(current_obs_input, targets):.2f}\")\n",
        "        evaluate(model, env, n_eval_episodes)"
      ]
    },
    {
      "cell_type": "markdown",
      "id": "e3477740-bfe4-4e0b-8a5d-cd0206786c8b",
      "metadata": {
        "id": "e3477740-bfe4-4e0b-8a5d-cd0206786c8b"
      },
      "source": [
        "### Record a video of the trained agent"
      ]
    },
    {
      "cell_type": "code",
      "execution_count": null,
      "id": "da8d90cc-2d77-4682-a97c-a3dacd081f38",
      "metadata": {
        "colab": {
          "base_uri": "https://localhost:8080/"
        },
        "id": "da8d90cc-2d77-4682-a97c-a3dacd081f38",
        "outputId": "f0f44a76-4ace-4806-d185-4e8aca6476a6"
      },
      "outputs": [
        {
          "output_type": "stream",
          "name": "stdout",
          "text": [
            "Saving video to ../logs/videos/FQI_CartPole-v1.mp4\n",
            "Moviepy - Building video ../logs/videos/FQI_CartPole-v1.mp4.\n",
            "Moviepy - Writing video ../logs/videos/FQI_CartPole-v1.mp4\n",
            "\n"
          ]
        },
        {
          "output_type": "stream",
          "name": "stderr",
          "text": []
        },
        {
          "output_type": "stream",
          "name": "stdout",
          "text": [
            "Moviepy - Done !\n",
            "Moviepy - video ready ../logs/videos/FQI_CartPole-v1.mp4\n",
            "Total reward = 345.33 +/- 115.64\n"
          ]
        }
      ],
      "source": [
        "eval_env = gym.make(env_id, render_mode=\"rgb_array\")\n",
        "video_name = f\"FQI_{env_id}\"\n",
        "n_eval_episodes = 3\n",
        "\n",
        "evaluate(model, eval_env, n_eval_episodes, video_name=video_name)"
      ]
    },
    {
      "cell_type": "code",
      "execution_count": null,
      "id": "bfc66910-de41-4622-9811-96addf8ba8d3",
      "metadata": {
        "colab": {
          "base_uri": "https://localhost:8080/",
          "height": 438
        },
        "id": "bfc66910-de41-4622-9811-96addf8ba8d3",
        "outputId": "232ec589-f123-4043-db30-592b6b0a4adc"
      },
      "outputs": [
        {
          "output_type": "stream",
          "name": "stdout",
          "text": [
            "FQI agent on CartPole-v1 after 20 iterations:\n"
          ]
        },
        {
          "output_type": "display_data",
          "data": {
            "text/plain": [
              "<IPython.core.display.HTML object>"
            ],
            "text/html": [
              "<video alt=\"../logs/videos/FQI_CartPole-v1.mp4\" autoplay\n",
              "                    loop controls style=\"height: 400px;\">\n",
              "                    <source src=\"data:video/mp4;base64,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\" type=\"video/mp4\" />\n",
              "                </video>"
            ]
          },
          "metadata": {}
        }
      ],
      "source": [
        "from dqn_tutorial.notebook_utils import show_videos\n",
        "\n",
        "print(f\"FQI agent on {env_id} after {n_iterations} iterations:\")\n",
        "show_videos(\"../logs/videos/\", prefix=video_name)"
      ]
    },
    {
      "cell_type": "markdown",
      "id": "69a60230-6477-4318-8d60-10f6eada6064",
      "metadata": {
        "id": "69a60230-6477-4318-8d60-10f6eada6064"
      },
      "source": [
        "### Going further\n",
        "\n",
        "- play with different models, and with their hyperparameters\n",
        "- play with the discount factor\n",
        "- play with the number of data collected/used\n",
        "- combine data from random policy with data from trained model"
      ]
    },
    {
      "cell_type": "markdown",
      "id": "40b8a44f-d48c-4a9d-8ed4-968c1ffb9948",
      "metadata": {
        "id": "40b8a44f-d48c-4a9d-8ed4-968c1ffb9948"
      },
      "source": [
        "## Conclusion\n",
        "\n",
        "What we have seen in this notebook:\n",
        "- collecting data using a random agent in a gym environment\n",
        "- predicting q-values using a regression model\n",
        "- the fitted q-iteration (FQI) algorithm to learn from an offline dataset"
      ]
    },
    {
      "cell_type": "code",
      "execution_count": null,
      "id": "761010b8-86dd-4958-b097-2912606b4493",
      "metadata": {
        "id": "761010b8-86dd-4958-b097-2912606b4493"
      },
      "outputs": [],
      "source": []
    }
  ],
  "metadata": {
    "kernelspec": {
      "display_name": "Python 3 (ipykernel)",
      "language": "python",
      "name": "python3"
    },
    "language_info": {
      "codemirror_mode": {
        "name": "ipython",
        "version": 3
      },
      "file_extension": ".py",
      "mimetype": "text/x-python",
      "name": "python",
      "nbconvert_exporter": "python",
      "pygments_lexer": "ipython3",
      "version": "3.10.9"
    },
    "colab": {
      "provenance": []
    }
  },
  "nbformat": 4,
  "nbformat_minor": 5
}