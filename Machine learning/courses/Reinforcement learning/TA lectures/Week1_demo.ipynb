{
  "nbformat": 4,
  "nbformat_minor": 0,
  "metadata": {
    "colab": {
      "provenance": []
    },
    "kernelspec": {
      "name": "python3",
      "display_name": "Python 3"
    },
    "language_info": {
      "name": "python"
    }
  },
  "cells": [
    {
      "cell_type": "markdown",
      "source": [
        "Code adapted from CS747 course at IIT Bombay"
      ],
      "metadata": {
        "id": "xptEsXHcJwFh"
      }
    },
    {
      "cell_type": "code",
      "execution_count": null,
      "metadata": {
        "id": "Acey20owCsIC"
      },
      "outputs": [],
      "source": [
        "import random\n",
        "import os"
      ]
    },
    {
      "cell_type": "code",
      "source": [
        "randomSeed = 1\n",
        "random.seed(randomSeed)"
      ],
      "metadata": {
        "id": "SROYpr9YEauV"
      },
      "execution_count": null,
      "outputs": []
    },
    {
      "cell_type": "code",
      "source": [
        "numCoins = 3\n",
        "p = [0.3,0.3,0.4]\n",
        "totalTosses = 20"
      ],
      "metadata": {
        "id": "ANfxPTbdDZYj"
      },
      "execution_count": null,
      "outputs": []
    },
    {
      "cell_type": "code",
      "source": [
        "totalHeads = 0\n",
        "tossesFinished = 0\n",
        "\n",
        "outcomes = []\n",
        "tosses = []\n",
        "\n",
        "for c in range (0, numCoins):\n",
        "    tosses.append(0)\n",
        "    o = []\n",
        "    for i in range(0, totalTosses):\n",
        "        o.append(\"-\")\n",
        "    outcomes.append(o)"
      ],
      "metadata": {
        "id": "N45-u-z0EdsH"
      },
      "execution_count": null,
      "outputs": []
    },
    {
      "cell_type": "code",
      "source": [
        "for i in range(0, totalTosses):\n",
        "\n",
        "    for c in range(0, numCoins):\n",
        "        s = \"\"\n",
        "        for i in range(0, tosses[c]):\n",
        "            s = s + outcomes[c][i] + \" \"\n",
        "        print(\"Coin \" + str(c + 1) + \": \" + s)\n",
        "    print(\"Tosses left = \" + str(totalTosses - tossesFinished))\n",
        "    print(\"------------------------------------\")\n",
        "\n",
        "    coin = input(\"Enter Coin (1/2/3/...) to toss: \")\n",
        "    coin = int(coin)\n",
        "    coin -= 1\n",
        "    outcome = \"t\"\n",
        "    if(random.uniform(0, 1.0) < p[coin]):\n",
        "        outcome = \"h\"\n",
        "        totalHeads += 1\n",
        "\n",
        "    outcomes[coin][tosses[coin]] = outcome\n",
        "    tosses[coin] += 1\n",
        "    tossesFinished += 1\n",
        "\n",
        "for c in range(0, numCoins):\n",
        "    s = \"\"\n",
        "    for i in range(0, tosses[c]):\n",
        "        s = s + outcomes[c][i] + \" \"\n",
        "    print(\"Coin \" + str(c + 1) + \": \" + s)\n",
        "\n",
        "print(\"Total heads = \" + str(totalHeads))"
      ],
      "metadata": {
        "colab": {
          "base_uri": "https://localhost:8080/"
        },
        "id": "sKNfZzW5FMSg",
        "outputId": "93fd0004-6655-4710-9e2c-f2cb7824bf85"
      },
      "execution_count": null,
      "outputs": [
        {
          "output_type": "stream",
          "name": "stdout",
          "text": [
            "Coin 1: \n",
            "Coin 2: \n",
            "Coin 3: \n",
            "Tosses left = 20\n",
            "------------------------------------\n",
            "Enter Coin (1/2/3/...) to toss: 1\n",
            "Coin 1: h \n",
            "Coin 2: \n",
            "Coin 3: \n",
            "Tosses left = 19\n",
            "------------------------------------\n",
            "Enter Coin (1/2/3/...) to toss: 1\n",
            "Coin 1: h t \n",
            "Coin 2: \n",
            "Coin 3: \n",
            "Tosses left = 18\n",
            "------------------------------------\n",
            "Enter Coin (1/2/3/...) to toss: 2\n",
            "Coin 1: h t \n",
            "Coin 2: t \n",
            "Coin 3: \n",
            "Tosses left = 17\n",
            "------------------------------------\n",
            "Enter Coin (1/2/3/...) to toss: 3\n",
            "Coin 1: h t \n",
            "Coin 2: t \n",
            "Coin 3: h \n",
            "Tosses left = 16\n",
            "------------------------------------\n",
            "Enter Coin (1/2/3/...) to toss: 3\n",
            "Coin 1: h t \n",
            "Coin 2: t \n",
            "Coin 3: h t \n",
            "Tosses left = 15\n",
            "------------------------------------\n",
            "Enter Coin (1/2/3/...) to toss: 1\n",
            "Coin 1: h t t \n",
            "Coin 2: t \n",
            "Coin 3: h t \n",
            "Tosses left = 14\n",
            "------------------------------------\n",
            "Enter Coin (1/2/3/...) to toss: 2\n",
            "Coin 1: h t t \n",
            "Coin 2: t t \n",
            "Coin 3: h t \n",
            "Tosses left = 13\n",
            "------------------------------------\n",
            "Enter Coin (1/2/3/...) to toss: 3\n",
            "Coin 1: h t t \n",
            "Coin 2: t t \n",
            "Coin 3: h t t \n",
            "Tosses left = 12\n",
            "------------------------------------\n",
            "Enter Coin (1/2/3/...) to toss: 2\n",
            "Coin 1: h t t \n",
            "Coin 2: t t h \n",
            "Coin 3: h t t \n",
            "Tosses left = 11\n",
            "------------------------------------\n",
            "Enter Coin (1/2/3/...) to toss: 2\n",
            "Coin 1: h t t \n",
            "Coin 2: t t h h \n",
            "Coin 3: h t t \n",
            "Tosses left = 10\n",
            "------------------------------------\n",
            "Enter Coin (1/2/3/...) to toss: 2\n",
            "Coin 1: h t t \n",
            "Coin 2: t t h h t \n",
            "Coin 3: h t t \n",
            "Tosses left = 9\n",
            "------------------------------------\n",
            "Enter Coin (1/2/3/...) to toss: 3\n",
            "Coin 1: h t t \n",
            "Coin 2: t t h h t \n",
            "Coin 3: h t t t \n",
            "Tosses left = 8\n",
            "------------------------------------\n",
            "Enter Coin (1/2/3/...) to toss: 1\n",
            "Coin 1: h t t t \n",
            "Coin 2: t t h h t \n",
            "Coin 3: h t t t \n",
            "Tosses left = 7\n",
            "------------------------------------\n",
            "Enter Coin (1/2/3/...) to toss: 2\n",
            "Coin 1: h t t t \n",
            "Coin 2: t t h h t h \n",
            "Coin 3: h t t t \n",
            "Tosses left = 6\n",
            "------------------------------------\n",
            "Enter Coin (1/2/3/...) to toss: 2\n",
            "Coin 1: h t t t \n",
            "Coin 2: t t h h t h t \n",
            "Coin 3: h t t t \n",
            "Tosses left = 5\n",
            "------------------------------------\n",
            "Enter Coin (1/2/3/...) to toss: 1\n",
            "Coin 1: h t t t t \n",
            "Coin 2: t t h h t h t \n",
            "Coin 3: h t t t \n",
            "Tosses left = 4\n",
            "------------------------------------\n",
            "Enter Coin (1/2/3/...) to toss: 3\n",
            "Coin 1: h t t t t \n",
            "Coin 2: t t h h t h t \n",
            "Coin 3: h t t t h \n",
            "Tosses left = 3\n",
            "------------------------------------\n",
            "Enter Coin (1/2/3/...) to toss: 3\n",
            "Coin 1: h t t t t \n",
            "Coin 2: t t h h t h t \n",
            "Coin 3: h t t t h t \n",
            "Tosses left = 2\n",
            "------------------------------------\n",
            "Enter Coin (1/2/3/...) to toss: 2\n",
            "Coin 1: h t t t t \n",
            "Coin 2: t t h h t h t t \n",
            "Coin 3: h t t t h t \n",
            "Tosses left = 1\n",
            "------------------------------------\n",
            "Enter Coin (1/2/3/...) to toss: 3\n",
            "Coin 1: h t t t t \n",
            "Coin 2: t t h h t h t t \n",
            "Coin 3: h t t t h t h \n",
            "Total heads = 7\n"
          ]
        }
      ]
    },
    {
      "cell_type": "code",
      "source": [],
      "metadata": {
        "id": "PBVvk4a0GChR"
      },
      "execution_count": null,
      "outputs": []
    }
  ]
}