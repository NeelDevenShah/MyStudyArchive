{
  "nbformat": 4,
  "nbformat_minor": 0,
  "metadata": {
    "colab": {
      "provenance": []
    },
    "kernelspec": {
      "name": "python3",
      "display_name": "Python 3"
    },
    "language_info": {
      "name": "python"
    }
  },
  "cells": [
    {
      "cell_type": "markdown",
      "source": [
        "Create a storage account (blob storage/ gen2 datalake all are same thing) and then copy the name of the storage account which is storage account name"
      ],
      "metadata": {
        "id": "F6PdlW_oMIjF"
      }
    },
    {
      "cell_type": "markdown",
      "source": [
        "And then in it, goto the containers and make the folder init and then take the name of folder and put it up to the container name"
      ],
      "metadata": {
        "id": "vj_b8lCzMXDo"
      }
    },
    {
      "cell_type": "markdown",
      "source": [
        "Lastly for the account key, go the the security + networking section, and in it copy the one of the key string and paste it. Done setup completed"
      ],
      "metadata": {
        "id": "wKE7XIS3Mjaq"
      }
    },
    {
      "cell_type": "code",
      "source": [
        "# from pyspark.dbutils import DBUtils"
      ],
      "metadata": {
        "id": "x0tptrl9NYhf"
      },
      "execution_count": null,
      "outputs": []
    },
    {
      "cell_type": "code",
      "source": [
        "dbutils.fs.mount(\n",
        "  source=\"wasbs://<container-name>@<storage-account-name>.blob.core.windows.net\",\n",
        "  mount_point=\"/mnt/storedatabricks1\",\n",
        "  extra_configs={\"fs.azure.account.key.<storage-account-name>.blob.core.windows.net\": \"<account-key>\"})"
      ],
      "metadata": {
        "id": "yBSNcdSKLzoA"
      },
      "execution_count": null,
      "outputs": []
    },
    {
      "cell_type": "code",
      "source": [
        "df = spark.read.csv(\"/mnt/storedatabricks1/user_content_likes.csv\", header=\"true\")"
      ],
      "metadata": {
        "id": "PMSN2HSxL_Ng"
      },
      "execution_count": null,
      "outputs": []
    },
    {
      "cell_type": "code",
      "source": [
        "display(df)"
      ],
      "metadata": {
        "id": "hM-j6JO6MAWi"
      },
      "execution_count": null,
      "outputs": []
    },
    {
      "cell_type": "markdown",
      "source": [
        "For checking different things that we can do, use dbutils.fs.help()"
      ],
      "metadata": {
        "id": "1gYsfZnmM8ld"
      }
    },
    {
      "cell_type": "code",
      "source": [
        "dbutils.fs.help()"
      ],
      "metadata": {
        "id": "6qBK2X-WM22S"
      },
      "execution_count": null,
      "outputs": []
    },
    {
      "cell_type": "markdown",
      "source": [
        "Make different operations that you want to and then unmount the storage"
      ],
      "metadata": {
        "id": "rAMm3e1NMyo0"
      }
    },
    {
      "cell_type": "code",
      "source": [
        "dbutils.fs.unmount(\"/mnt/storedatabricks1\")"
      ],
      "metadata": {
        "id": "AWG-1Hv7Ne9O"
      },
      "execution_count": null,
      "outputs": []
    },
    {
      "cell_type": "markdown",
      "source": [
        "One can always change the name or location of the amount which is mentioned in the above example"
      ],
      "metadata": {
        "id": "bkom33nRNf2Z"
      }
    }
  ]
}