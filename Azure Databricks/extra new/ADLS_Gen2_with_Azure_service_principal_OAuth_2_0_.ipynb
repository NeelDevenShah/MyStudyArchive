{
  "nbformat": 4,
  "nbformat_minor": 0,
  "metadata": {
    "colab": {
      "provenance": []
    },
    "kernelspec": {
      "name": "python3",
      "display_name": "Python 3"
    },
    "language_info": {
      "name": "python"
    }
  },
  "cells": [
    {
      "cell_type": "markdown",
      "source": [
        "ADLS Gen2 with Azure service principal"
      ],
      "metadata": {
        "id": "ZXBglJr9J9f-"
      }
    },
    {
      "cell_type": "markdown",
      "source": [
        "Configure authentication"
      ],
      "metadata": {
        "id": "WszMrt42KOIe"
      }
    },
    {
      "cell_type": "code",
      "execution_count": null,
      "metadata": {
        "id": "RPN3U9b-J27a"
      },
      "outputs": [],
      "source": [
        "service_credential = dbutils.secrets.get(scope=\"<scope>\",key=\"<service-credential-key>\")\n",
        "\n",
        "spark.conf.set(\"fs.azure.account.auth.type.<storage-account>.dfs.core.windows.net\", \"OAuth\")\n",
        "spark.conf.set(\"fs.azure.account.oauth.provider.type.<storage-account>.dfs.core.windows.net\", \"org.apache.hadoop.fs.azurebfs.oauth2.ClientCredsTokenProvider\")\n",
        "spark.conf.set(\"fs.azure.account.oauth2.client.id.<storage-account>.dfs.core.windows.net\", \"<application-id>\")\n",
        "spark.conf.set(\"fs.azure.account.oauth2.client.secret.<storage-account>.dfs.core.windows.net\", service_credential)\n",
        "spark.conf.set(\"fs.azure.account.oauth2.client.endpoint.<storage-account>.dfs.core.windows.net\", \"https://login.microsoftonline.com/<directory-id>/oauth2/token\")"
      ]
    },
    {
      "cell_type": "markdown",
      "source": [
        "Read Databricks Dataset IoT Devices JSON"
      ],
      "metadata": {
        "id": "s_w4gNmvKNKw"
      }
    },
    {
      "cell_type": "code",
      "source": [
        "df = spark.read.json(\"/databricks-datasets/iot/iot_devices.json\")"
      ],
      "metadata": {
        "id": "GP9t4ZszKAvO"
      },
      "execution_count": null,
      "outputs": []
    },
    {
      "cell_type": "markdown",
      "source": [
        "Write Delta table to external path"
      ],
      "metadata": {
        "id": "ZCsnKQUdKMD8"
      }
    },
    {
      "cell_type": "code",
      "source": [
        "df.write.save(\"abfss://<container-name>@<storage-account-name>.dfs.core.windows.net/<path-to-data>\")"
      ],
      "metadata": {
        "id": "OoYbWVeRKCFY"
      },
      "execution_count": null,
      "outputs": []
    },
    {
      "cell_type": "markdown",
      "source": [
        "List filesystem"
      ],
      "metadata": {
        "id": "vUfFmoHfKKek"
      }
    },
    {
      "cell_type": "code",
      "source": [
        "dbutils.fs.ls(\"abfss://<container-name>@<storage-account-name>.dfs.core.windows.net/<path-to-data>\")"
      ],
      "metadata": {
        "id": "8uACNWrLKGfs"
      },
      "execution_count": null,
      "outputs": []
    },
    {
      "cell_type": "markdown",
      "source": [
        "Read IoT Devices JSON from ADLS Gen2 filesystem"
      ],
      "metadata": {
        "id": "m8GrOYniKJTy"
      }
    },
    {
      "cell_type": "code",
      "source": [
        "df2 = spark.read.load(\"abfss://<container-name>@<storage-account-name>.dfs.core.windows.net/<path-to-data>\")\n",
        "display(df2)"
      ],
      "metadata": {
        "id": "cu7Gup34KDSR"
      },
      "execution_count": null,
      "outputs": []
    }
  ]
}